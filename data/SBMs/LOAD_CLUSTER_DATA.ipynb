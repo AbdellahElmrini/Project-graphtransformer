{
 "cells": [
  {
   "cell_type": "code",
   "execution_count": 1,
   "id": "31efc2cc",
   "metadata": {},
   "outputs": [],
   "source": [
    "import numpy as np\n",
    "import torch\n",
    "import pickle\n",
    "import time\n",
    "import os\n",
    "\n",
    "import scipy.sparse\n",
    "import time\n",
    "import pickle\n",
    "import json\n"
   ]
  },
  {
   "cell_type": "code",
   "execution_count": 2,
   "id": "2d4457d5",
   "metadata": {},
   "outputs": [],
   "source": [
    "os.chdir(\"/users/eleves-a/2020/abdellah.el-mrini/graphtransformer\")"
   ]
  },
  {
   "cell_type": "code",
   "execution_count": 3,
   "id": "fc82121a",
   "metadata": {},
   "outputs": [
    {
     "name": "stderr",
     "output_type": "stream",
     "text": [
      "Using backend: pytorch\n"
     ]
    }
   ],
   "source": [
    "from data.SBMs import SBMsDatasetDGL \n",
    "\n",
    "from data.data import LoadData\n",
    "from torch.utils.data import DataLoader\n",
    "from data.SBMs import SBMsDataset"
   ]
  },
  {
   "cell_type": "code",
   "execution_count": 4,
   "id": "e193ee5a",
   "metadata": {},
   "outputs": [
    {
     "name": "stdout",
     "output_type": "stream",
     "text": [
      "{'nb_clusters': 6, 'size_min': 5, 'size_max': 35, 'p': 0.25, 'q': 0.55}\n"
     ]
    }
   ],
   "source": [
    "with open('configs/data_config.json') as f:\n",
    "    PARAMS = json.load(f)\n",
    "\n",
    "    # configuration   \n",
    "SBM_parameters = {}\n",
    "SBM_parameters['nb_clusters'] = PARAMS['nb_clusters'] #6 \n",
    "SBM_parameters['size_min'] = PARAMS['size_min'] #5 \n",
    "SBM_parameters['size_max'] = PARAMS['size_max'] #35 \n",
    "SBM_parameters['p'] = PARAMS['p'] #0.55 \n",
    "SBM_parameters['q'] = PARAMS['q'] #0.25 \n",
    "\n",
    "nb_graphs_train = PARAMS[\"nb_graphs_train\"] # train\n",
    "nb_graphs_test = PARAMS[\"nb_graphs_test\"]#\n",
    "nb_graphs_val = PARAMS[\"nb_graphs_val\"] # test\n",
    "print(SBM_parameters)\n",
    "    \n"
   ]
  },
  {
   "cell_type": "code",
   "execution_count": 5,
   "id": "c816eb96",
   "metadata": {},
   "outputs": [
    {
     "name": "stdout",
     "output_type": "stream",
     "text": [
      "<__main__.generate_SBM_graph object at 0x7f3a90531d10>\n"
     ]
    }
   ],
   "source": [
    "\n",
    "def schuffle(W,c):\n",
    "    # relabel the vertices at random\n",
    "    idx=np.random.permutation( W.shape[0] )\n",
    "    #idx2=np.argsort(idx) # for index ordering wrt classes\n",
    "    W_new=W[idx,:]\n",
    "    W_new=W_new[:,idx]\n",
    "    c_new=c[idx]\n",
    "    return W_new , c_new , idx \n",
    "\n",
    "\n",
    "def block_model(c,p,q):\n",
    "    n=len(c)\n",
    "    W=np.zeros((n,n))\n",
    "    for i in range(n):\n",
    "        for j in range(i+1,n):\n",
    "            if c[i]==c[j]:\n",
    "                prob=p\n",
    "            else:\n",
    "                prob=q\n",
    "            if np.random.binomial(1,prob)==1:\n",
    "                W[i,j]=1\n",
    "                W[j,i]=1     \n",
    "    return W\n",
    "\n",
    "\n",
    "def unbalanced_block_model(nb_of_clust, clust_size_min, clust_size_max, p, q):  \n",
    "    c = []\n",
    "    for r in range(nb_of_clust):\n",
    "        if clust_size_max==clust_size_min:\n",
    "            clust_size_r = clust_size_max\n",
    "        else:\n",
    "            clust_size_r = np.random.randint(clust_size_min,clust_size_max,size=1)[0]\n",
    "        val_r = np.repeat(r,clust_size_r,axis=0)\n",
    "        c.append(val_r)\n",
    "    c = np.concatenate(c)  \n",
    "    W = block_model(c,p,q)  \n",
    "    return W,c\n",
    "\n",
    "\n",
    "class generate_SBM_graph():\n",
    "\n",
    "    def __init__(self, SBM_parameters): \n",
    "\n",
    "        # parameters\n",
    "        nb_of_clust = SBM_parameters['nb_clusters']\n",
    "        clust_size_min = SBM_parameters['size_min']\n",
    "        clust_size_max = SBM_parameters['size_max']\n",
    "        p = SBM_parameters['p']\n",
    "        q = SBM_parameters['q']\n",
    "\n",
    "        # block model\n",
    "        W, c = unbalanced_block_model(nb_of_clust, clust_size_min, clust_size_max, p, q)\n",
    "        \n",
    "        # shuffle\n",
    "        W, c, idx = schuffle(W,c)\n",
    "        \n",
    "        # signal on block model\n",
    "        u = np.zeros(c.shape[0])\n",
    "        for r in range(nb_of_clust):\n",
    "            cluster = np.where(c==r)[0]\n",
    "            s = cluster[np.random.randint(cluster.shape[0])]\n",
    "            u[s] = r+1\n",
    "\n",
    "        # target\n",
    "        target = c\n",
    "        \n",
    "        # convert to pytorch\n",
    "        W = torch.from_numpy(W)\n",
    "        W = W.to(torch.int8)\n",
    "        idx = torch.from_numpy(idx) \n",
    "        idx = idx.to(torch.int16)\n",
    "        u = torch.from_numpy(u) \n",
    "        u = u.to(torch.int16)                      \n",
    "        target = torch.from_numpy(target)\n",
    "        target = target.to(torch.int16)\n",
    "        \n",
    "        # attributes\n",
    "        self.nb_nodes = W.size(0)\n",
    "        self.W = W\n",
    "        self.rand_idx = idx\n",
    "        self.node_feat = u\n",
    "        self.node_label = target\n",
    "        \n",
    "\n",
    "data = generate_SBM_graph(SBM_parameters)\n",
    "\n",
    "print(data)\n"
   ]
  },
  {
   "cell_type": "code",
   "execution_count": 6,
   "id": "86444e0c",
   "metadata": {},
   "outputs": [
    {
     "name": "stdout",
     "output_type": "stream",
     "text": [
      "0\n",
      "1\n",
      "0\n",
      "10\n",
      "0\n",
      "1\n",
      "Time (sec): 0.13012003898620605\n"
     ]
    }
   ],
   "source": [
    "class DotDict(dict):\n",
    "    def __init__(self, **kwds):\n",
    "        self.update(kwds)\n",
    "        self.__dict__ = self\n",
    "\n",
    "def generate_semisuperclust_dataset(nb_graphs):\n",
    "    dataset = []\n",
    "    for i in range(nb_graphs):\n",
    "        if not i%250:\n",
    "            print(i)\n",
    "        data = generate_SBM_graph(SBM_parameters)\n",
    "        graph = DotDict()\n",
    "        graph.nb_nodes = data.nb_nodes\n",
    "        graph.W = data.W\n",
    "        graph.rand_idx = data.rand_idx\n",
    "        graph.node_feat = data.node_feat\n",
    "        graph.node_label = data.node_label\n",
    "        dataset.append(graph)\n",
    "    return dataset\n",
    "\n",
    "     \n",
    "def SBMs_CLUSTER(nb_graphs, name):\n",
    "    dataset = generate_semisuperclust_dataset(nb_graphs)\n",
    "    print(len(dataset))\n",
    "    data_dir = os.path.join('data','SBMs')\n",
    "    with open(os.path.join(data_dir,name)+'.pkl',\"wb\") as f:\n",
    "        pickle.dump(dataset,f)\n",
    "    \n",
    "\n",
    "\n",
    "\n",
    "start = time.time()\n",
    "\n",
    "\n",
    "SBMs_CLUSTER(nb_graphs_train, 'SBM_CLUSTER_train')\n",
    "    \n",
    "\n",
    "SBMs_CLUSTER(nb_graphs_test, 'SBM_CLUSTER_test')\n",
    "\n",
    "\n",
    "SBMs_CLUSTER(nb_graphs_val, 'SBM_CLUSTER_val')\n",
    "\n",
    "print('Time (sec):',time.time() - start) # 190s\n"
   ]
  },
  {
   "cell_type": "code",
   "execution_count": null,
   "id": "0f82950d",
   "metadata": {},
   "outputs": [],
   "source": []
  },
  {
   "cell_type": "code",
   "execution_count": 7,
   "id": "bb8a89df",
   "metadata": {},
   "outputs": [],
   "source": [
    "class DotDict(dict):\n",
    "    def __init__(self, **kwds):\n",
    "        self.update(kwds)\n",
    "        self.__dict__ = self"
   ]
  },
  {
   "cell_type": "code",
   "execution_count": 8,
   "id": "fd87e009",
   "metadata": {},
   "outputs": [
    {
     "name": "stdout",
     "output_type": "stream",
     "text": [
      "[I] Loading data ...\n",
      "preparing 1 graphs for the TRAIN set...\n"
     ]
    },
    {
     "name": "stderr",
     "output_type": "stream",
     "text": [
      "/users/eleves-a/2020/abdellah.el-mrini/graphtransformer/data/SBMs.py:40: UserWarning: This overload of nonzero is deprecated:\n",
      "\tnonzero()\n",
      "Consider using one of the following signatures instead:\n",
      "\tnonzero(*, bool as_tuple) (Triggered internally at  /opt/conda/conda-bld/pytorch_1595629427478/work/torch/csrc/utils/python_arg_parser.cpp:766.)\n",
      "  edge_list = (data.W != 0).nonzero()  # converting adj matrix to edge_list\n",
      "/users/eleves-a/2020/abdellah.el-mrini/miniconda3/envs/graph_transformer/lib/python3.7/site-packages/dgl/base.py:45: DGLWarning: Recommend creating graphs by `dgl.graph(data)` instead of `dgl.DGLGraph(data)`.\n",
      "  return warnings.warn(message, category=category, stacklevel=1)\n"
     ]
    },
    {
     "name": "stdout",
     "output_type": "stream",
     "text": [
      "preparing 10 graphs for the TEST set...\n",
      "preparing 1 graphs for the VAL set...\n",
      "[I] Finished loading.\n",
      "[I] Data load time: 17.1821s\n",
      "Time (sec): 17.18221664428711\n"
     ]
    }
   ],
   "source": [
    "start = time.time()\n",
    "\n",
    "DATASET_NAME = 'SBM_CLUSTER'\n",
    "dataset = SBMsDatasetDGL(DATASET_NAME) \n",
    "\n",
    "print('Time (sec):',time.time() - start) "
   ]
  },
  {
   "cell_type": "code",
   "execution_count": 9,
   "id": "c2cf807b",
   "metadata": {},
   "outputs": [
    {
     "name": "stdout",
     "output_type": "stream",
     "text": [
      "Time (sec): 0.024767160415649414\n"
     ]
    }
   ],
   "source": [
    "start = time.time()\n",
    "\n",
    "with open('data/SBMs/SBM_CLUSTER.pkl','wb') as f:\n",
    "        pickle.dump([dataset.train,dataset.val,dataset.test],f)\n",
    "        \n",
    "print('Time (sec):',time.time() - start) "
   ]
  },
  {
   "cell_type": "code",
   "execution_count": null,
   "id": "e9fff5db",
   "metadata": {},
   "outputs": [],
   "source": []
  }
 ],
 "metadata": {
  "kernelspec": {
   "display_name": "Python 3",
   "language": "python",
   "name": "python3"
  },
  "language_info": {
   "codemirror_mode": {
    "name": "ipython",
    "version": 3
   },
   "file_extension": ".py",
   "mimetype": "text/x-python",
   "name": "python",
   "nbconvert_exporter": "python",
   "pygments_lexer": "ipython3",
   "version": "3.7.4"
  }
 },
 "nbformat": 4,
 "nbformat_minor": 5
}
