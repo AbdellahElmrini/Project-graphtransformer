{
 "cells": [
  {
   "cell_type": "code",
   "execution_count": 1,
   "id": "22b5a7dc",
   "metadata": {},
   "outputs": [
    {
     "name": "stderr",
     "output_type": "stream",
     "text": [
      "Using backend: pytorch\n"
     ]
    }
   ],
   "source": [
    "import networkx as nx\n",
    "import numpy as np\n",
    "import torch \n",
    "import dgl\n",
    "import json\n",
    "from tqdm import tqdm,trange\n",
    "from sklearn.metrics import adjusted_rand_score\n",
    "from sklearn.cluster import SpectralClustering\n",
    "import os\n",
    "import scipy as scp\n",
    "from sklearn.metrics import confusion_matrix, adjusted_rand_score\n"
   ]
  },
  {
   "cell_type": "code",
   "execution_count": 2,
   "id": "67133933",
   "metadata": {},
   "outputs": [],
   "source": [
    "from nets.SBMs_node_classification.graph_transformer_net import GraphTransformerNet\n",
    "from train.train_SBMs_node_classification import evaluate_network\n",
    "from data.data import LoadData \n",
    "from train.metrics import accuracy_SBM"
   ]
  },
  {
   "cell_type": "code",
   "execution_count": 3,
   "id": "7ba34274",
   "metadata": {},
   "outputs": [],
   "source": [
    "class DotDict(dict):\n",
    "    def __init__(self, **kwds):\n",
    "        self.update(kwds)\n",
    "        self.__dict__ = self"
   ]
  },
  {
   "cell_type": "code",
   "execution_count": 4,
   "id": "90a320ec",
   "metadata": {},
   "outputs": [],
   "source": [
    "def accuracy(preds, targets):\n",
    "    CM = confusion_matrix(preds,targets).astype(np.float32)\n",
    "    nb_classes = CM.shape[0]\n",
    "    nb_non_empty_classes = 0\n",
    "    pr_classes = np.zeros(nb_classes)\n",
    "    for r in range(nb_classes):\n",
    "        cluster = np.where(targets==r)[0]\n",
    "        if cluster.shape[0] != 0:\n",
    "            pr_classes[r] = CM[r,r]/ float(cluster.shape[0])\n",
    "            if CM[r,r]>0:\n",
    "                nb_non_empty_classes += 1\n",
    "        else:\n",
    "            pr_classes[r] = 0.0\n",
    "    acc = 100.* np.sum(pr_classes)/ float(nb_classes)\n",
    "    return acc"
   ]
  },
  {
   "cell_type": "code",
   "execution_count": null,
   "id": "2ad1b9df",
   "metadata": {},
   "outputs": [
    {
     "name": "stderr",
     "output_type": "stream",
     "text": [
      "\n",
      "  0%|          | 0/373 [00:00<?, ?it/s]\u001b[A"
     ]
    },
    {
     "name": "stdout",
     "output_type": "stream",
     "text": [
      "{'nb_clusters': 6, 'size_min': 5, 'size_max': 30, 'p': 0.55, 'q': 0.15, 'nb_graphs_train': 1, 'nb_graphs_test': 1000, 'nb_graphs_val': 1}\n",
      "s\n",
      "e\n",
      "[I] Loading dataset SBM_CLUSTER...\n",
      "train, test, val sizes : 1 1000 1\n",
      "[I] Finished loading.\n",
      "[I] Data load time: 0.4398s\n"
     ]
    },
    {
     "name": "stderr",
     "output_type": "stream",
     "text": [
      "\n",
      "  0%|          | 1/373 [00:34<3:32:08, 34.22s/it]\u001b[A"
     ]
    },
    {
     "name": "stdout",
     "output_type": "stream",
     "text": [
      "{'nb_clusters': 6, 'size_min': 5, 'size_max': 30, 'p': 0.55, 'q': 0.2, 'nb_graphs_train': 1, 'nb_graphs_test': 1000, 'nb_graphs_val': 1}\n",
      "s\n",
      "e\n",
      "[I] Loading dataset SBM_CLUSTER...\n",
      "train, test, val sizes : 1 1000 1\n",
      "[I] Finished loading.\n",
      "[I] Data load time: 0.4661s\n"
     ]
    },
    {
     "name": "stderr",
     "output_type": "stream",
     "text": [
      "\n",
      "  1%|          | 2/373 [01:08<3:32:32, 34.37s/it]\u001b[A"
     ]
    },
    {
     "name": "stdout",
     "output_type": "stream",
     "text": [
      "{'nb_clusters': 6, 'size_min': 5, 'size_max': 30, 'p': 0.55, 'q': 0.25, 'nb_graphs_train': 1, 'nb_graphs_test': 1000, 'nb_graphs_val': 1}\n",
      "s\n",
      "e\n",
      "[I] Loading dataset SBM_CLUSTER...\n",
      "train, test, val sizes : 1 1000 1\n",
      "[I] Finished loading.\n",
      "[I] Data load time: 0.5380s\n"
     ]
    },
    {
     "name": "stderr",
     "output_type": "stream",
     "text": [
      "\n",
      "  1%|          | 3/373 [01:46<3:37:15, 35.23s/it]\u001b[A"
     ]
    },
    {
     "name": "stdout",
     "output_type": "stream",
     "text": [
      "{'nb_clusters': 6, 'size_min': 5, 'size_max': 30, 'p': 0.55, 'q': 0.3, 'nb_graphs_train': 1, 'nb_graphs_test': 1000, 'nb_graphs_val': 1}\n",
      "s\n",
      "e\n",
      "[I] Loading dataset SBM_CLUSTER...\n",
      "train, test, val sizes : 1 1000 1\n",
      "[I] Finished loading.\n",
      "[I] Data load time: 0.4954s\n"
     ]
    },
    {
     "name": "stderr",
     "output_type": "stream",
     "text": [
      "\n",
      "  1%|          | 4/373 [02:23<3:40:35, 35.87s/it]\u001b[A"
     ]
    },
    {
     "name": "stdout",
     "output_type": "stream",
     "text": [
      "{'nb_clusters': 6, 'size_min': 5, 'size_max': 30, 'p': 0.6, 'q': 0.15, 'nb_graphs_train': 1, 'nb_graphs_test': 1000, 'nb_graphs_val': 1}\n",
      "s\n",
      "e\n",
      "[I] Loading dataset SBM_CLUSTER...\n",
      "train, test, val sizes : 1 1000 1\n",
      "[I] Finished loading.\n",
      "[I] Data load time: 0.4884s\n"
     ]
    },
    {
     "name": "stderr",
     "output_type": "stream",
     "text": [
      "\n",
      "  1%|▏         | 5/373 [02:55<3:33:25, 34.80s/it]\u001b[A"
     ]
    },
    {
     "name": "stdout",
     "output_type": "stream",
     "text": [
      "{'nb_clusters': 6, 'size_min': 5, 'size_max': 30, 'p': 0.6, 'q': 0.2, 'nb_graphs_train': 1, 'nb_graphs_test': 1000, 'nb_graphs_val': 1}\n",
      "s\n",
      "e\n",
      "[I] Loading dataset SBM_CLUSTER...\n",
      "train, test, val sizes : 1 1000 1\n",
      "[I] Finished loading.\n",
      "[I] Data load time: 0.4898s\n"
     ]
    },
    {
     "name": "stderr",
     "output_type": "stream",
     "text": [
      "\n",
      "  2%|▏         | 6/373 [03:30<3:31:48, 34.63s/it]\u001b[A"
     ]
    },
    {
     "name": "stdout",
     "output_type": "stream",
     "text": [
      "{'nb_clusters': 6, 'size_min': 5, 'size_max': 30, 'p': 0.6, 'q': 0.25, 'nb_graphs_train': 1, 'nb_graphs_test': 1000, 'nb_graphs_val': 1}\n",
      "s\n",
      "e\n",
      "[I] Loading dataset SBM_CLUSTER...\n",
      "train, test, val sizes : 1 1000 1\n",
      "[I] Finished loading.\n",
      "[I] Data load time: 0.4992s\n"
     ]
    },
    {
     "name": "stderr",
     "output_type": "stream",
     "text": [
      "\n",
      "  2%|▏         | 7/373 [04:06<3:35:15, 35.29s/it]\u001b[A"
     ]
    },
    {
     "name": "stdout",
     "output_type": "stream",
     "text": [
      "{'nb_clusters': 6, 'size_min': 5, 'size_max': 30, 'p': 0.6, 'q': 0.3, 'nb_graphs_train': 1, 'nb_graphs_test': 1000, 'nb_graphs_val': 1}\n",
      "s\n",
      "e\n",
      "[I] Loading dataset SBM_CLUSTER...\n",
      "train, test, val sizes : 1 1000 1\n",
      "[I] Finished loading.\n",
      "[I] Data load time: 0.5158s\n"
     ]
    },
    {
     "name": "stderr",
     "output_type": "stream",
     "text": [
      "\n",
      "  2%|▏         | 8/373 [04:43<3:37:30, 35.75s/it]\u001b[A"
     ]
    },
    {
     "name": "stdout",
     "output_type": "stream",
     "text": [
      "{'nb_clusters': 6, 'size_min': 5, 'size_max': 30, 'p': 0.65, 'q': 0.15, 'nb_graphs_train': 1, 'nb_graphs_test': 1000, 'nb_graphs_val': 1}\n",
      "s\n",
      "e\n",
      "[I] Loading dataset SBM_CLUSTER...\n",
      "train, test, val sizes : 1 1000 1\n",
      "[I] Finished loading.\n",
      "[I] Data load time: 0.5029s\n"
     ]
    },
    {
     "name": "stderr",
     "output_type": "stream",
     "text": [
      "\n",
      "  2%|▏         | 9/373 [05:15<3:29:21, 34.51s/it]\u001b[A"
     ]
    },
    {
     "name": "stdout",
     "output_type": "stream",
     "text": [
      "{'nb_clusters': 6, 'size_min': 5, 'size_max': 30, 'p': 0.65, 'q': 0.2, 'nb_graphs_train': 1, 'nb_graphs_test': 1000, 'nb_graphs_val': 1}\n",
      "s\n",
      "e\n",
      "[I] Loading dataset SBM_CLUSTER...\n",
      "train, test, val sizes : 1 1000 1\n",
      "[I] Finished loading.\n",
      "[I] Data load time: 0.4907s\n"
     ]
    },
    {
     "name": "stderr",
     "output_type": "stream",
     "text": [
      "\n",
      "  3%|▎         | 10/373 [05:47<3:25:14, 33.92s/it]\u001b[A"
     ]
    },
    {
     "name": "stdout",
     "output_type": "stream",
     "text": [
      "{'nb_clusters': 6, 'size_min': 5, 'size_max': 30, 'p': 0.65, 'q': 0.25, 'nb_graphs_train': 1, 'nb_graphs_test': 1000, 'nb_graphs_val': 1}\n",
      "s\n",
      "e\n",
      "[I] Loading dataset SBM_CLUSTER...\n",
      "train, test, val sizes : 1 1000 1\n",
      "[I] Finished loading.\n",
      "[I] Data load time: 0.5447s\n"
     ]
    },
    {
     "name": "stderr",
     "output_type": "stream",
     "text": [
      "\n",
      "  3%|▎         | 11/373 [06:23<3:28:02, 34.48s/it]\u001b[A"
     ]
    },
    {
     "name": "stdout",
     "output_type": "stream",
     "text": [
      "{'nb_clusters': 6, 'size_min': 5, 'size_max': 30, 'p': 0.65, 'q': 0.3, 'nb_graphs_train': 1, 'nb_graphs_test': 1000, 'nb_graphs_val': 1}\n",
      "s\n",
      "e\n",
      "[I] Loading dataset SBM_CLUSTER...\n",
      "train, test, val sizes : 1 1000 1\n",
      "[I] Finished loading.\n",
      "[I] Data load time: 0.5115s\n"
     ]
    },
    {
     "name": "stderr",
     "output_type": "stream",
     "text": [
      "\n",
      "  3%|▎         | 12/373 [06:59<3:30:09, 34.93s/it]\u001b[A"
     ]
    },
    {
     "name": "stdout",
     "output_type": "stream",
     "text": [
      "{'nb_clusters': 6, 'size_min': 5, 'size_max': 30, 'p': 0.55, 'q': 0.15, 'nb_graphs_train': 1, 'nb_graphs_test': 1000, 'nb_graphs_val': 1}\n",
      "s\n",
      "e\n",
      "[I] Loading dataset SBM_CLUSTER...\n",
      "train, test, val sizes : 1 1000 1\n",
      "[I] Finished loading.\n",
      "[I] Data load time: 0.4994s\n"
     ]
    },
    {
     "name": "stderr",
     "output_type": "stream",
     "text": [
      "\n",
      "  3%|▎         | 13/373 [07:33<3:27:23, 34.56s/it]\u001b[A"
     ]
    },
    {
     "name": "stdout",
     "output_type": "stream",
     "text": [
      "{'nb_clusters': 6, 'size_min': 5, 'size_max': 30, 'p': 0.55, 'q': 0.2, 'nb_graphs_train': 1, 'nb_graphs_test': 1000, 'nb_graphs_val': 1}\n",
      "s\n",
      "e\n",
      "[I] Loading dataset SBM_CLUSTER...\n",
      "train, test, val sizes : 1 1000 1\n",
      "[I] Finished loading.\n",
      "[I] Data load time: 0.5037s\n"
     ]
    },
    {
     "name": "stderr",
     "output_type": "stream",
     "text": [
      "\n",
      "  4%|▍         | 14/373 [08:07<3:26:45, 34.55s/it]\u001b[A"
     ]
    },
    {
     "name": "stdout",
     "output_type": "stream",
     "text": [
      "{'nb_clusters': 6, 'size_min': 5, 'size_max': 30, 'p': 0.55, 'q': 0.25, 'nb_graphs_train': 1, 'nb_graphs_test': 1000, 'nb_graphs_val': 1}\n",
      "s\n",
      "e\n",
      "[I] Loading dataset SBM_CLUSTER...\n",
      "train, test, val sizes : 1 1000 1\n",
      "[I] Finished loading.\n",
      "[I] Data load time: 0.4948s\n"
     ]
    },
    {
     "name": "stderr",
     "output_type": "stream",
     "text": [
      "\n",
      "  4%|▍         | 15/373 [08:45<3:31:24, 35.43s/it]\u001b[A"
     ]
    },
    {
     "name": "stdout",
     "output_type": "stream",
     "text": [
      "{'nb_clusters': 6, 'size_min': 5, 'size_max': 35, 'p': 0.7, 'q': 0.2, 'nb_graphs_train': 1, 'nb_graphs_test': 1000, 'nb_graphs_val': 1}\n",
      "s\n",
      "e\n",
      "[I] Loading dataset SBM_CLUSTER...\n",
      "train, test, val sizes : 1 1000 1\n",
      "[I] Finished loading.\n",
      "[I] Data load time: 0.5113s\n"
     ]
    },
    {
     "name": "stderr",
     "output_type": "stream",
     "text": [
      "\n",
      "  4%|▍         | 16/373 [09:20<3:30:21, 35.35s/it]\u001b[A"
     ]
    },
    {
     "name": "stdout",
     "output_type": "stream",
     "text": [
      "{'nb_clusters': 6, 'size_min': 5, 'size_max': 30, 'p': 0.55, 'q': 0.1, 'nb_graphs_train': 1, 'nb_graphs_test': 1000, 'nb_graphs_val': 1}\n",
      "s\n",
      "e\n",
      "[I] Loading dataset SBM_CLUSTER...\n",
      "train, test, val sizes : 1 1000 1\n",
      "[I] Finished loading.\n",
      "[I] Data load time: 0.4846s\n"
     ]
    },
    {
     "name": "stderr",
     "output_type": "stream",
     "text": [
      "\n",
      "  5%|▍         | 17/373 [09:51<3:22:25, 34.12s/it]\u001b[A"
     ]
    },
    {
     "name": "stdout",
     "output_type": "stream",
     "text": [
      "{'nb_clusters': 6, 'size_min': 5, 'size_max': 30, 'p': 0.55, 'q': 0.2, 'nb_graphs_train': 1, 'nb_graphs_test': 1000, 'nb_graphs_val': 1}\n",
      "s\n",
      "e\n",
      "[I] Loading dataset SBM_CLUSTER...\n",
      "train, test, val sizes : 1 1000 1\n",
      "[I] Finished loading.\n",
      "[I] Data load time: 0.4978s\n"
     ]
    },
    {
     "name": "stderr",
     "output_type": "stream",
     "text": [
      "\n",
      "  5%|▍         | 18/373 [10:28<3:25:55, 34.80s/it]\u001b[A"
     ]
    },
    {
     "name": "stdout",
     "output_type": "stream",
     "text": [
      "{'nb_clusters': 6, 'size_min': 5, 'size_max': 30, 'p': 0.55, 'q': 0.3, 'nb_graphs_train': 1, 'nb_graphs_test': 1000, 'nb_graphs_val': 1}\n",
      "s\n",
      "e\n",
      "[I] Loading dataset SBM_CLUSTER...\n",
      "train, test, val sizes : 1 1000 1\n",
      "[I] Finished loading.\n",
      "[I] Data load time: 0.5487s\n"
     ]
    },
    {
     "name": "stderr",
     "output_type": "stream",
     "text": [
      "\n",
      "  5%|▌         | 19/373 [11:06<3:31:34, 35.86s/it]\u001b[A"
     ]
    },
    {
     "name": "stdout",
     "output_type": "stream",
     "text": [
      "{'nb_clusters': 6, 'size_min': 5, 'size_max': 30, 'p': 0.55, 'q': 0.4, 'nb_graphs_train': 1, 'nb_graphs_test': 1000, 'nb_graphs_val': 1}\n",
      "s\n",
      "e\n",
      "[I] Loading dataset SBM_CLUSTER...\n",
      "train, test, val sizes : 1 1000 1\n",
      "[I] Finished loading.\n",
      "[I] Data load time: 0.5300s\n"
     ]
    },
    {
     "name": "stderr",
     "output_type": "stream",
     "text": [
      "\n",
      "  5%|▌         | 20/373 [11:44<3:34:04, 36.39s/it]\u001b[A"
     ]
    },
    {
     "name": "stdout",
     "output_type": "stream",
     "text": [
      "{'nb_clusters': 6, 'size_min': 5, 'size_max': 30, 'p': 0.65, 'q': 0.1, 'nb_graphs_train': 1, 'nb_graphs_test': 1000, 'nb_graphs_val': 1}\n",
      "s\n",
      "e\n",
      "[I] Loading dataset SBM_CLUSTER...\n",
      "train, test, val sizes : 1 1000 1\n",
      "[I] Finished loading.\n",
      "[I] Data load time: 0.5073s\n"
     ]
    },
    {
     "name": "stderr",
     "output_type": "stream",
     "text": [
      "\n",
      "  6%|▌         | 21/373 [12:15<3:23:58, 34.77s/it]\u001b[A"
     ]
    },
    {
     "name": "stdout",
     "output_type": "stream",
     "text": [
      "{'nb_clusters': 6, 'size_min': 5, 'size_max': 30, 'p': 0.65, 'q': 0.2, 'nb_graphs_train': 1, 'nb_graphs_test': 1000, 'nb_graphs_val': 1}\n",
      "s\n",
      "e\n",
      "[I] Loading dataset SBM_CLUSTER...\n",
      "train, test, val sizes : 1 1000 1\n",
      "[I] Finished loading.\n",
      "[I] Data load time: 0.5006s\n"
     ]
    },
    {
     "name": "stderr",
     "output_type": "stream",
     "text": [
      "\n",
      "  6%|▌         | 22/373 [12:48<3:20:45, 34.32s/it]\u001b[A"
     ]
    },
    {
     "name": "stdout",
     "output_type": "stream",
     "text": [
      "{'nb_clusters': 6, 'size_min': 5, 'size_max': 30, 'p': 0.65, 'q': 0.3, 'nb_graphs_train': 1, 'nb_graphs_test': 1000, 'nb_graphs_val': 1}\n",
      "s\n",
      "e\n",
      "[I] Loading dataset SBM_CLUSTER...\n",
      "train, test, val sizes : 1 1000 1\n",
      "[I] Finished loading.\n",
      "[I] Data load time: 0.4966s\n"
     ]
    },
    {
     "name": "stderr",
     "output_type": "stream",
     "text": [
      "\n",
      "  6%|▌         | 23/373 [13:25<3:25:32, 35.24s/it]\u001b[A"
     ]
    },
    {
     "name": "stdout",
     "output_type": "stream",
     "text": [
      "{'nb_clusters': 6, 'size_min': 5, 'size_max': 30, 'p': 0.65, 'q': 0.4, 'nb_graphs_train': 1, 'nb_graphs_test': 1000, 'nb_graphs_val': 1}\n",
      "s\n",
      "e\n",
      "[I] Loading dataset SBM_CLUSTER...\n",
      "train, test, val sizes : 1 1000 1\n",
      "[I] Finished loading.\n",
      "[I] Data load time: 0.5272s\n"
     ]
    },
    {
     "name": "stderr",
     "output_type": "stream",
     "text": [
      "\n",
      "  6%|▋         | 24/373 [14:03<3:28:36, 35.86s/it]\u001b[A"
     ]
    },
    {
     "name": "stdout",
     "output_type": "stream",
     "text": [
      "{'nb_clusters': 6, 'size_min': 5, 'size_max': 30, 'p': 0.75, 'q': 0.1, 'nb_graphs_train': 1, 'nb_graphs_test': 1000, 'nb_graphs_val': 1}\n",
      "s\n",
      "e\n",
      "[I] Loading dataset SBM_CLUSTER...\n",
      "train, test, val sizes : 1 1000 1\n",
      "[I] Finished loading.\n",
      "[I] Data load time: 0.4985s\n"
     ]
    },
    {
     "name": "stderr",
     "output_type": "stream",
     "text": [
      "\n",
      "  7%|▋         | 25/373 [14:32<3:16:13, 33.83s/it]\u001b[A"
     ]
    },
    {
     "name": "stdout",
     "output_type": "stream",
     "text": [
      "{'nb_clusters': 6, 'size_min': 5, 'size_max': 30, 'p': 0.75, 'q': 0.2, 'nb_graphs_train': 1, 'nb_graphs_test': 1000, 'nb_graphs_val': 1}\n",
      "s\n",
      "e\n",
      "[I] Loading dataset SBM_CLUSTER...\n",
      "train, test, val sizes : 1 1000 1\n",
      "[I] Finished loading.\n",
      "[I] Data load time: 0.5000s\n"
     ]
    },
    {
     "name": "stderr",
     "output_type": "stream",
     "text": [
      "\n",
      "  7%|▋         | 26/373 [15:03<3:10:51, 33.00s/it]\u001b[A"
     ]
    },
    {
     "name": "stdout",
     "output_type": "stream",
     "text": [
      "{'nb_clusters': 6, 'size_min': 5, 'size_max': 30, 'p': 0.75, 'q': 0.3, 'nb_graphs_train': 1, 'nb_graphs_test': 1000, 'nb_graphs_val': 1}\n",
      "s\n",
      "e\n",
      "[I] Loading dataset SBM_CLUSTER...\n",
      "train, test, val sizes : 1 1000 1\n",
      "[I] Finished loading.\n",
      "[I] Data load time: 0.5058s\n"
     ]
    },
    {
     "name": "stderr",
     "output_type": "stream",
     "text": [
      "\n",
      "  7%|▋         | 27/373 [15:38<3:14:02, 33.65s/it]\u001b[A"
     ]
    },
    {
     "name": "stdout",
     "output_type": "stream",
     "text": [
      "{'nb_clusters': 6, 'size_min': 5, 'size_max': 30, 'p': 0.75, 'q': 0.4, 'nb_graphs_train': 1, 'nb_graphs_test': 1000, 'nb_graphs_val': 1}\n",
      "s\n",
      "e\n",
      "[I] Loading dataset SBM_CLUSTER...\n",
      "train, test, val sizes : 1 1000 1\n",
      "[I] Finished loading.\n",
      "[I] Data load time: 0.5747s\n"
     ]
    },
    {
     "name": "stderr",
     "output_type": "stream",
     "text": [
      "\n",
      "  8%|▊         | 28/373 [16:15<3:19:04, 34.62s/it]\u001b[A"
     ]
    },
    {
     "name": "stdout",
     "output_type": "stream",
     "text": [
      "{'nb_clusters': 6, 'size_min': 5, 'size_max': 30, 'p': 0.85, 'q': 0.1, 'nb_graphs_train': 1, 'nb_graphs_test': 1000, 'nb_graphs_val': 1}\n",
      "s\n",
      "e\n",
      "[I] Loading dataset SBM_CLUSTER...\n",
      "train, test, val sizes : 1 1000 1\n",
      "[I] Finished loading.\n",
      "[I] Data load time: 0.5100s\n"
     ]
    },
    {
     "name": "stderr",
     "output_type": "stream",
     "text": [
      "\n",
      "  8%|▊         | 29/373 [16:43<3:07:11, 32.65s/it]\u001b[A"
     ]
    },
    {
     "name": "stdout",
     "output_type": "stream",
     "text": [
      "{'nb_clusters': 6, 'size_min': 5, 'size_max': 30, 'p': 0.85, 'q': 0.2, 'nb_graphs_train': 1, 'nb_graphs_test': 1000, 'nb_graphs_val': 1}\n",
      "s\n",
      "e\n",
      "[I] Loading dataset SBM_CLUSTER...\n",
      "train, test, val sizes : 1 1000 1\n",
      "[I] Finished loading.\n",
      "[I] Data load time: 0.5095s\n"
     ]
    },
    {
     "name": "stderr",
     "output_type": "stream",
     "text": [
      "\n",
      "  8%|▊         | 30/373 [17:13<3:02:18, 31.89s/it]\u001b[A"
     ]
    },
    {
     "name": "stdout",
     "output_type": "stream",
     "text": [
      "{'nb_clusters': 6, 'size_min': 5, 'size_max': 30, 'p': 0.85, 'q': 0.3, 'nb_graphs_train': 1, 'nb_graphs_test': 1000, 'nb_graphs_val': 1}\n",
      "s\n",
      "e\n",
      "[I] Loading dataset SBM_CLUSTER...\n",
      "train, test, val sizes : 1 1000 1\n",
      "[I] Finished loading.\n",
      "[I] Data load time: 0.5183s\n"
     ]
    },
    {
     "name": "stderr",
     "output_type": "stream",
     "text": [
      "\n",
      "  8%|▊         | 31/373 [17:46<3:03:19, 32.16s/it]\u001b[A"
     ]
    },
    {
     "name": "stdout",
     "output_type": "stream",
     "text": [
      "{'nb_clusters': 6, 'size_min': 5, 'size_max': 30, 'p': 0.85, 'q': 0.4, 'nb_graphs_train': 1, 'nb_graphs_test': 1000, 'nb_graphs_val': 1}\n",
      "s\n",
      "e\n",
      "[I] Loading dataset SBM_CLUSTER...\n",
      "train, test, val sizes : 1 1000 1\n",
      "[I] Finished loading.\n",
      "[I] Data load time: 0.5336s\n"
     ]
    },
    {
     "name": "stderr",
     "output_type": "stream",
     "text": [
      "\n",
      "  9%|▊         | 32/373 [18:22<3:09:14, 33.30s/it]\u001b[A"
     ]
    },
    {
     "name": "stdout",
     "output_type": "stream",
     "text": [
      "{'nb_clusters': 6, 'size_min': 5, 'size_max': 40, 'p': 0.55, 'q': 0.1, 'nb_graphs_train': 1, 'nb_graphs_test': 1000, 'nb_graphs_val': 1}\n",
      "s\n",
      "e\n",
      "[I] Loading dataset SBM_CLUSTER...\n",
      "train, test, val sizes : 1 1000 1\n",
      "[I] Finished loading.\n",
      "[I] Data load time: 0.5221s\n"
     ]
    },
    {
     "name": "stderr",
     "output_type": "stream",
     "text": [
      "\n",
      "  9%|▉         | 33/373 [18:58<3:13:39, 34.17s/it]\u001b[A"
     ]
    },
    {
     "name": "stdout",
     "output_type": "stream",
     "text": [
      "{'nb_clusters': 6, 'size_min': 5, 'size_max': 40, 'p': 0.55, 'q': 0.2, 'nb_graphs_train': 1, 'nb_graphs_test': 1000, 'nb_graphs_val': 1}\n",
      "s\n",
      "e\n",
      "[I] Loading dataset SBM_CLUSTER...\n",
      "train, test, val sizes : 1 1000 1\n",
      "[I] Finished loading.\n",
      "[I] Data load time: 0.5383s\n"
     ]
    },
    {
     "name": "stderr",
     "output_type": "stream",
     "text": [
      "\n",
      "  9%|▉         | 34/373 [19:42<3:29:04, 37.01s/it]\u001b[A"
     ]
    },
    {
     "name": "stdout",
     "output_type": "stream",
     "text": [
      "{'nb_clusters': 6, 'size_min': 5, 'size_max': 40, 'p': 0.55, 'q': 0.3, 'nb_graphs_train': 1, 'nb_graphs_test': 1000, 'nb_graphs_val': 1}\n",
      "s\n",
      "e\n",
      "[I] Loading dataset SBM_CLUSTER...\n",
      "train, test, val sizes : 1 1000 1\n",
      "[I] Finished loading.\n",
      "[I] Data load time: 0.5686s\n"
     ]
    },
    {
     "name": "stderr",
     "output_type": "stream",
     "text": [
      "\n",
      "  9%|▉         | 35/373 [20:28<3:44:15, 39.81s/it]\u001b[A"
     ]
    },
    {
     "name": "stdout",
     "output_type": "stream",
     "text": [
      "{'nb_clusters': 6, 'size_min': 5, 'size_max': 40, 'p': 0.55, 'q': 0.4, 'nb_graphs_train': 1, 'nb_graphs_test': 1000, 'nb_graphs_val': 1}\n",
      "s\n",
      "e\n",
      "[I] Loading dataset SBM_CLUSTER...\n",
      "train, test, val sizes : 1 1000 1\n",
      "[I] Finished loading.\n",
      "[I] Data load time: 0.6481s\n"
     ]
    },
    {
     "name": "stderr",
     "output_type": "stream",
     "text": [
      "\n",
      " 10%|▉         | 36/373 [21:17<3:58:30, 42.46s/it]\u001b[A"
     ]
    },
    {
     "name": "stdout",
     "output_type": "stream",
     "text": [
      "{'nb_clusters': 6, 'size_min': 5, 'size_max': 40, 'p': 0.65, 'q': 0.1, 'nb_graphs_train': 1, 'nb_graphs_test': 1000, 'nb_graphs_val': 1}\n",
      "s\n",
      "e\n",
      "[I] Loading dataset SBM_CLUSTER...\n",
      "train, test, val sizes : 1 1000 1\n",
      "[I] Finished loading.\n",
      "[I] Data load time: 0.5242s\n"
     ]
    },
    {
     "name": "stderr",
     "output_type": "stream",
     "text": [
      "\n",
      " 10%|▉         | 37/373 [21:51<3:44:01, 40.00s/it]\u001b[A"
     ]
    },
    {
     "name": "stdout",
     "output_type": "stream",
     "text": [
      "{'nb_clusters': 6, 'size_min': 5, 'size_max': 40, 'p': 0.65, 'q': 0.2, 'nb_graphs_train': 1, 'nb_graphs_test': 1000, 'nb_graphs_val': 1}\n",
      "s\n",
      "e\n",
      "[I] Loading dataset SBM_CLUSTER...\n",
      "train, test, val sizes : 1 1000 1\n",
      "[I] Finished loading.\n",
      "[I] Data load time: 0.5406s\n"
     ]
    },
    {
     "name": "stderr",
     "output_type": "stream",
     "text": [
      "\n",
      " 10%|█         | 38/373 [22:32<3:44:57, 40.29s/it]\u001b[A"
     ]
    },
    {
     "name": "stdout",
     "output_type": "stream",
     "text": [
      "{'nb_clusters': 6, 'size_min': 5, 'size_max': 40, 'p': 0.65, 'q': 0.3, 'nb_graphs_train': 1, 'nb_graphs_test': 1000, 'nb_graphs_val': 1}\n",
      "s\n",
      "e\n",
      "[I] Loading dataset SBM_CLUSTER...\n",
      "train, test, val sizes : 1 1000 1\n",
      "[I] Finished loading.\n",
      "[I] Data load time: 0.5693s\n"
     ]
    },
    {
     "name": "stderr",
     "output_type": "stream",
     "text": [
      "\n",
      " 10%|█         | 39/373 [23:16<3:51:25, 41.57s/it]\u001b[A"
     ]
    },
    {
     "name": "stdout",
     "output_type": "stream",
     "text": [
      "{'nb_clusters': 6, 'size_min': 5, 'size_max': 40, 'p': 0.65, 'q': 0.4, 'nb_graphs_train': 1, 'nb_graphs_test': 1000, 'nb_graphs_val': 1}\n",
      "s\n",
      "e\n",
      "[I] Loading dataset SBM_CLUSTER...\n",
      "train, test, val sizes : 1 1000 1\n",
      "[I] Finished loading.\n",
      "[I] Data load time: 0.6119s\n"
     ]
    },
    {
     "name": "stderr",
     "output_type": "stream",
     "text": [
      "\n",
      " 11%|█         | 40/373 [24:06<4:03:58, 43.96s/it]\u001b[A"
     ]
    },
    {
     "name": "stdout",
     "output_type": "stream",
     "text": [
      "{'nb_clusters': 6, 'size_min': 5, 'size_max': 40, 'p': 0.75, 'q': 0.1, 'nb_graphs_train': 1, 'nb_graphs_test': 1000, 'nb_graphs_val': 1}\n",
      "s\n",
      "e\n",
      "[I] Loading dataset SBM_CLUSTER...\n",
      "train, test, val sizes : 1 1000 1\n",
      "[I] Finished loading.\n",
      "[I] Data load time: 0.5362s\n"
     ]
    },
    {
     "name": "stderr",
     "output_type": "stream",
     "text": [
      "\n",
      " 11%|█         | 41/373 [24:40<3:46:30, 40.93s/it]\u001b[A"
     ]
    },
    {
     "name": "stdout",
     "output_type": "stream",
     "text": [
      "{'nb_clusters': 6, 'size_min': 5, 'size_max': 40, 'p': 0.75, 'q': 0.2, 'nb_graphs_train': 1, 'nb_graphs_test': 1000, 'nb_graphs_val': 1}\n",
      "s\n",
      "e\n",
      "[I] Loading dataset SBM_CLUSTER...\n",
      "train, test, val sizes : 1 1000 1\n",
      "[I] Finished loading.\n",
      "[I] Data load time: 0.5537s\n"
     ]
    },
    {
     "name": "stderr",
     "output_type": "stream",
     "text": [
      "\n",
      " 11%|█▏        | 42/373 [25:19<3:42:54, 40.41s/it]\u001b[A"
     ]
    },
    {
     "name": "stdout",
     "output_type": "stream",
     "text": [
      "{'nb_clusters': 6, 'size_min': 5, 'size_max': 40, 'p': 0.75, 'q': 0.3, 'nb_graphs_train': 1, 'nb_graphs_test': 1000, 'nb_graphs_val': 1}\n",
      "s\n",
      "e\n",
      "[I] Loading dataset SBM_CLUSTER...\n",
      "train, test, val sizes : 1 1000 1\n",
      "[I] Finished loading.\n",
      "[I] Data load time: 0.5830s\n"
     ]
    },
    {
     "name": "stderr",
     "output_type": "stream",
     "text": [
      "\n",
      " 12%|█▏        | 43/373 [26:01<3:44:51, 40.88s/it]\u001b[A"
     ]
    },
    {
     "name": "stdout",
     "output_type": "stream",
     "text": [
      "{'nb_clusters': 6, 'size_min': 5, 'size_max': 40, 'p': 0.75, 'q': 0.4, 'nb_graphs_train': 1, 'nb_graphs_test': 1000, 'nb_graphs_val': 1}\n",
      "s\n",
      "e\n",
      "[I] Loading dataset SBM_CLUSTER...\n",
      "train, test, val sizes : 1 1000 1\n",
      "[I] Finished loading.\n",
      "[I] Data load time: 0.6742s\n"
     ]
    },
    {
     "name": "stderr",
     "output_type": "stream",
     "text": [
      "\n",
      " 12%|█▏        | 44/373 [26:48<3:53:45, 42.63s/it]\u001b[A"
     ]
    },
    {
     "name": "stdout",
     "output_type": "stream",
     "text": [
      "{'nb_clusters': 6, 'size_min': 5, 'size_max': 40, 'p': 0.85, 'q': 0.1, 'nb_graphs_train': 1, 'nb_graphs_test': 1000, 'nb_graphs_val': 1}\n",
      "s\n",
      "e\n",
      "[I] Loading dataset SBM_CLUSTER...\n",
      "train, test, val sizes : 1 1000 1\n",
      "[I] Finished loading.\n",
      "[I] Data load time: 0.5466s\n"
     ]
    },
    {
     "name": "stderr",
     "output_type": "stream",
     "text": [
      "\n",
      " 12%|█▏        | 45/373 [27:22<3:39:02, 40.07s/it]\u001b[A"
     ]
    },
    {
     "name": "stdout",
     "output_type": "stream",
     "text": [
      "{'nb_clusters': 6, 'size_min': 5, 'size_max': 40, 'p': 0.85, 'q': 0.2, 'nb_graphs_train': 1, 'nb_graphs_test': 1000, 'nb_graphs_val': 1}\n",
      "s\n",
      "e\n",
      "[I] Loading dataset SBM_CLUSTER...\n",
      "train, test, val sizes : 1 1000 1\n",
      "[I] Finished loading.\n",
      "[I] Data load time: 0.5734s\n"
     ]
    },
    {
     "name": "stderr",
     "output_type": "stream",
     "text": [
      "\n",
      " 12%|█▏        | 46/373 [27:59<3:33:06, 39.10s/it]\u001b[A"
     ]
    },
    {
     "name": "stdout",
     "output_type": "stream",
     "text": [
      "{'nb_clusters': 6, 'size_min': 5, 'size_max': 40, 'p': 0.85, 'q': 0.3, 'nb_graphs_train': 1, 'nb_graphs_test': 1000, 'nb_graphs_val': 1}\n",
      "s\n",
      "e\n",
      "[I] Loading dataset SBM_CLUSTER...\n",
      "train, test, val sizes : 1 1000 1\n",
      "[I] Finished loading.\n",
      "[I] Data load time: 0.5960s\n"
     ]
    },
    {
     "name": "stderr",
     "output_type": "stream",
     "text": [
      "\n",
      " 13%|█▎        | 47/373 [28:38<3:33:12, 39.24s/it]\u001b[A"
     ]
    },
    {
     "name": "stdout",
     "output_type": "stream",
     "text": [
      "{'nb_clusters': 6, 'size_min': 5, 'size_max': 40, 'p': 0.85, 'q': 0.4, 'nb_graphs_train': 1, 'nb_graphs_test': 1000, 'nb_graphs_val': 1}\n",
      "s\n",
      "e\n",
      "[I] Loading dataset SBM_CLUSTER...\n",
      "train, test, val sizes : 1 1000 1\n",
      "[I] Finished loading.\n",
      "[I] Data load time: 0.6281s\n"
     ]
    },
    {
     "name": "stderr",
     "output_type": "stream",
     "text": [
      "\n",
      " 13%|█▎        | 48/373 [29:22<3:40:52, 40.78s/it]\u001b[A"
     ]
    },
    {
     "name": "stdout",
     "output_type": "stream",
     "text": [
      "{'nb_clusters': 6, 'size_min': 5, 'size_max': 50, 'p': 0.55, 'q': 0.2, 'nb_graphs_train': 1, 'nb_graphs_test': 1000, 'nb_graphs_val': 1}\n",
      "s\n",
      "e\n",
      "[I] Loading dataset SBM_CLUSTER...\n",
      "train, test, val sizes : 1 1000 1\n",
      "[I] Finished loading.\n",
      "[I] Data load time: 0.6089s\n"
     ]
    },
    {
     "name": "stderr",
     "output_type": "stream",
     "text": [
      "\n",
      " 13%|█▎        | 49/373 [30:14<3:57:29, 43.98s/it]\u001b[A"
     ]
    },
    {
     "name": "stdout",
     "output_type": "stream",
     "text": [
      "{'nb_clusters': 6, 'size_min': 5, 'size_max': 50, 'p': 0.55, 'q': 0.3, 'nb_graphs_train': 1, 'nb_graphs_test': 1000, 'nb_graphs_val': 1}\n",
      "s\n",
      "e\n",
      "[I] Loading dataset SBM_CLUSTER...\n",
      "train, test, val sizes : 1 1000 1\n",
      "[I] Finished loading.\n",
      "[I] Data load time: 0.6417s\n"
     ]
    },
    {
     "name": "stderr",
     "output_type": "stream",
     "text": [
      "\n",
      " 13%|█▎        | 50/373 [31:12<4:19:01, 48.12s/it]\u001b[A"
     ]
    },
    {
     "name": "stdout",
     "output_type": "stream",
     "text": [
      "{'nb_clusters': 6, 'size_min': 5, 'size_max': 50, 'p': 0.65, 'q': 0.1, 'nb_graphs_train': 1, 'nb_graphs_test': 1000, 'nb_graphs_val': 1}\n",
      "s\n",
      "e\n",
      "[I] Loading dataset SBM_CLUSTER...\n",
      "train, test, val sizes : 1 1000 1\n",
      "[I] Finished loading.\n",
      "[I] Data load time: 0.5748s\n"
     ]
    },
    {
     "name": "stderr",
     "output_type": "stream",
     "text": [
      "\n",
      " 14%|█▎        | 51/373 [31:56<4:11:42, 46.90s/it]\u001b[A"
     ]
    },
    {
     "name": "stdout",
     "output_type": "stream",
     "text": [
      "{'nb_clusters': 6, 'size_min': 5, 'size_max': 50, 'p': 0.65, 'q': 0.2, 'nb_graphs_train': 1, 'nb_graphs_test': 1000, 'nb_graphs_val': 1}\n",
      "s\n",
      "e\n",
      "[I] Loading dataset SBM_CLUSTER...\n",
      "train, test, val sizes : 1 1000 1\n",
      "[I] Finished loading.\n",
      "[I] Data load time: 0.6608s\n"
     ]
    },
    {
     "name": "stderr",
     "output_type": "stream",
     "text": [
      "\n",
      " 14%|█▍        | 52/373 [32:46<4:15:57, 47.84s/it]\u001b[A"
     ]
    },
    {
     "name": "stdout",
     "output_type": "stream",
     "text": [
      "{'nb_clusters': 6, 'size_min': 5, 'size_max': 50, 'p': 0.65, 'q': 0.3, 'nb_graphs_train': 1, 'nb_graphs_test': 1000, 'nb_graphs_val': 1}\n",
      "s\n",
      "e\n",
      "[I] Loading dataset SBM_CLUSTER...\n",
      "train, test, val sizes : 1 1000 1\n",
      "[I] Finished loading.\n",
      "[I] Data load time: 0.6542s\n"
     ]
    },
    {
     "name": "stderr",
     "output_type": "stream",
     "text": [
      "\n",
      " 14%|█▍        | 53/373 [33:40<4:25:50, 49.84s/it]\u001b[A"
     ]
    },
    {
     "name": "stdout",
     "output_type": "stream",
     "text": [
      "{'nb_clusters': 6, 'size_min': 5, 'size_max': 50, 'p': 0.65, 'q': 0.4, 'nb_graphs_train': 1, 'nb_graphs_test': 1000, 'nb_graphs_val': 1}\n",
      "s\n",
      "e\n",
      "[I] Loading dataset SBM_CLUSTER...\n",
      "train, test, val sizes : 1 1000 1\n",
      "[I] Finished loading.\n",
      "[I] Data load time: 0.6988s\n"
     ]
    },
    {
     "name": "stderr",
     "output_type": "stream",
     "text": [
      "\n",
      " 14%|█▍        | 54/373 [34:42<4:44:34, 53.52s/it]\u001b[A"
     ]
    },
    {
     "name": "stdout",
     "output_type": "stream",
     "text": [
      "{'nb_clusters': 6, 'size_min': 5, 'size_max': 50, 'p': 0.75, 'q': 0.1, 'nb_graphs_train': 1, 'nb_graphs_test': 1000, 'nb_graphs_val': 1}\n",
      "s\n",
      "e\n",
      "[I] Loading dataset SBM_CLUSTER...\n",
      "train, test, val sizes : 1 1000 1\n",
      "[I] Finished loading.\n",
      "[I] Data load time: 0.5794s\n"
     ]
    },
    {
     "name": "stderr",
     "output_type": "stream",
     "text": [
      "\n",
      " 15%|█▍        | 55/373 [35:27<4:29:56, 50.93s/it]\u001b[A"
     ]
    },
    {
     "name": "stdout",
     "output_type": "stream",
     "text": [
      "{'nb_clusters': 6, 'size_min': 5, 'size_max': 50, 'p': 0.75, 'q': 0.2, 'nb_graphs_train': 1, 'nb_graphs_test': 1000, 'nb_graphs_val': 1}\n",
      "s\n",
      "e\n",
      "[I] Loading dataset SBM_CLUSTER...\n",
      "train, test, val sizes : 1 1000 1\n",
      "[I] Finished loading.\n",
      "[I] Data load time: 0.6121s\n"
     ]
    },
    {
     "name": "stderr",
     "output_type": "stream",
     "text": [
      "\n",
      " 15%|█▌        | 56/373 [36:14<4:23:03, 49.79s/it]\u001b[A"
     ]
    },
    {
     "name": "stdout",
     "output_type": "stream",
     "text": [
      "{'nb_clusters': 6, 'size_min': 5, 'size_max': 50, 'p': 0.75, 'q': 0.3, 'nb_graphs_train': 1, 'nb_graphs_test': 1000, 'nb_graphs_val': 1}\n",
      "s\n",
      "e\n",
      "[I] Loading dataset SBM_CLUSTER...\n",
      "train, test, val sizes : 1 1000 1\n",
      "[I] Finished loading.\n",
      "[I] Data load time: 0.6597s\n"
     ]
    },
    {
     "name": "stderr",
     "output_type": "stream",
     "text": [
      "\n",
      " 15%|█▌        | 57/373 [37:07<4:26:43, 50.64s/it]\u001b[A"
     ]
    },
    {
     "name": "stdout",
     "output_type": "stream",
     "text": [
      "{'nb_clusters': 6, 'size_min': 5, 'size_max': 50, 'p': 0.75, 'q': 0.4, 'nb_graphs_train': 1, 'nb_graphs_test': 1000, 'nb_graphs_val': 1}\n",
      "s\n",
      "e\n",
      "[I] Loading dataset SBM_CLUSTER...\n",
      "train, test, val sizes : 1 1000 1\n",
      "[I] Finished loading.\n",
      "[I] Data load time: 0.6808s\n"
     ]
    },
    {
     "name": "stderr",
     "output_type": "stream",
     "text": [
      "\n",
      " 16%|█▌        | 58/373 [38:03<4:34:13, 52.23s/it]\u001b[A"
     ]
    },
    {
     "name": "stdout",
     "output_type": "stream",
     "text": [
      "{'nb_clusters': 6, 'size_min': 5, 'size_max': 50, 'p': 0.85, 'q': 0.1, 'nb_graphs_train': 1, 'nb_graphs_test': 1000, 'nb_graphs_val': 1}\n",
      "s\n",
      "e\n",
      "[I] Loading dataset SBM_CLUSTER...\n",
      "train, test, val sizes : 1 1000 1\n",
      "[I] Finished loading.\n",
      "[I] Data load time: 0.5783s\n"
     ]
    },
    {
     "name": "stderr",
     "output_type": "stream",
     "text": [
      "\n",
      " 16%|█▌        | 59/373 [38:48<4:22:13, 50.11s/it]\u001b[A"
     ]
    },
    {
     "name": "stdout",
     "output_type": "stream",
     "text": [
      "{'nb_clusters': 6, 'size_min': 5, 'size_max': 50, 'p': 0.85, 'q': 0.2, 'nb_graphs_train': 1, 'nb_graphs_test': 1000, 'nb_graphs_val': 1}\n",
      "s\n",
      "e\n",
      "[I] Loading dataset SBM_CLUSTER...\n",
      "train, test, val sizes : 1 1000 1\n",
      "[I] Finished loading.\n",
      "[I] Data load time: 0.6172s\n"
     ]
    },
    {
     "name": "stderr",
     "output_type": "stream",
     "text": [
      "\n",
      " 16%|█▌        | 60/373 [39:32<4:12:08, 48.33s/it]\u001b[A"
     ]
    },
    {
     "name": "stdout",
     "output_type": "stream",
     "text": [
      "{'nb_clusters': 6, 'size_min': 5, 'size_max': 50, 'p': 0.85, 'q': 0.4, 'nb_graphs_train': 1, 'nb_graphs_test': 1000, 'nb_graphs_val': 1}\n",
      "s\n",
      "e\n",
      "[I] Loading dataset SBM_CLUSTER...\n",
      "train, test, val sizes : 1 1000 1\n",
      "[I] Finished loading.\n",
      "[I] Data load time: 0.7529s\n"
     ]
    },
    {
     "name": "stderr",
     "output_type": "stream",
     "text": [
      "\n",
      " 16%|█▋        | 61/373 [40:27<4:21:26, 50.28s/it]\u001b[A"
     ]
    },
    {
     "name": "stdout",
     "output_type": "stream",
     "text": [
      "{'nb_clusters': 6, 'size_min': 5, 'size_max': 60, 'p': 0.55, 'q': 0.1, 'nb_graphs_train': 1, 'nb_graphs_test': 1000, 'nb_graphs_val': 1}\n",
      "s\n",
      "e\n",
      "[I] Loading dataset SBM_CLUSTER...\n",
      "train, test, val sizes : 1 1000 1\n",
      "[I] Finished loading.\n",
      "[I] Data load time: 0.6013s\n"
     ]
    },
    {
     "name": "stderr",
     "output_type": "stream",
     "text": [
      "\n",
      " 17%|█▋        | 62/373 [41:23<4:28:42, 51.84s/it]\u001b[A"
     ]
    },
    {
     "name": "stdout",
     "output_type": "stream",
     "text": [
      "{'nb_clusters': 6, 'size_min': 5, 'size_max': 60, 'p': 0.55, 'q': 0.2, 'nb_graphs_train': 1, 'nb_graphs_test': 1000, 'nb_graphs_val': 1}\n",
      "s\n",
      "e\n",
      "[I] Loading dataset SBM_CLUSTER...\n",
      "train, test, val sizes : 1 1000 1\n",
      "[I] Finished loading.\n",
      "[I] Data load time: 0.6550s\n"
     ]
    },
    {
     "name": "stderr",
     "output_type": "stream",
     "text": [
      "\n",
      " 17%|█▋        | 63/373 [42:26<4:45:48, 55.32s/it]\u001b[A"
     ]
    },
    {
     "name": "stdout",
     "output_type": "stream",
     "text": [
      "{'nb_clusters': 6, 'size_min': 5, 'size_max': 60, 'p': 0.55, 'q': 0.3, 'nb_graphs_train': 1, 'nb_graphs_test': 1000, 'nb_graphs_val': 1}\n",
      "s\n",
      "e\n",
      "[I] Loading dataset SBM_CLUSTER...\n",
      "train, test, val sizes : 1 1000 1\n",
      "[I] Finished loading.\n",
      "[I] Data load time: 0.7110s\n"
     ]
    },
    {
     "name": "stderr",
     "output_type": "stream",
     "text": [
      "\n",
      " 17%|█▋        | 64/373 [43:37<5:09:25, 60.08s/it]\u001b[A"
     ]
    },
    {
     "name": "stdout",
     "output_type": "stream",
     "text": [
      "{'nb_clusters': 6, 'size_min': 5, 'size_max': 60, 'p': 0.55, 'q': 0.4, 'nb_graphs_train': 1, 'nb_graphs_test': 1000, 'nb_graphs_val': 1}\n",
      "s\n",
      "e\n",
      "[I] Loading dataset SBM_CLUSTER...\n",
      "train, test, val sizes : 1 1000 1\n",
      "[I] Finished loading.\n",
      "[I] Data load time: 0.7629s\n"
     ]
    },
    {
     "name": "stderr",
     "output_type": "stream",
     "text": [
      "\n",
      " 17%|█▋        | 65/373 [44:50<5:27:32, 63.81s/it]\u001b[A"
     ]
    },
    {
     "name": "stdout",
     "output_type": "stream",
     "text": [
      "{'nb_clusters': 6, 'size_min': 5, 'size_max': 60, 'p': 0.65, 'q': 0.1, 'nb_graphs_train': 1, 'nb_graphs_test': 1000, 'nb_graphs_val': 1}\n",
      "s\n",
      "e\n",
      "[I] Loading dataset SBM_CLUSTER...\n",
      "train, test, val sizes : 1 1000 1\n",
      "[I] Finished loading.\n",
      "[I] Data load time: 0.6059s\n"
     ]
    },
    {
     "name": "stderr",
     "output_type": "stream",
     "text": [
      "\n",
      " 18%|█▊        | 66/373 [45:44<5:12:28, 61.07s/it]\u001b[A"
     ]
    },
    {
     "name": "stdout",
     "output_type": "stream",
     "text": [
      "{'nb_clusters': 6, 'size_min': 5, 'size_max': 60, 'p': 0.65, 'q': 0.2, 'nb_graphs_train': 1, 'nb_graphs_test': 1000, 'nb_graphs_val': 1}\n",
      "s\n",
      "e\n",
      "[I] Loading dataset SBM_CLUSTER...\n",
      "train, test, val sizes : 1 1000 1\n",
      "[I] Finished loading.\n",
      "[I] Data load time: 0.6553s\n"
     ]
    },
    {
     "name": "stderr",
     "output_type": "stream",
     "text": [
      "\n",
      " 18%|█▊        | 67/373 [46:44<5:08:27, 60.48s/it]\u001b[A"
     ]
    },
    {
     "name": "stdout",
     "output_type": "stream",
     "text": [
      "{'nb_clusters': 6, 'size_min': 5, 'size_max': 60, 'p': 0.65, 'q': 0.3, 'nb_graphs_train': 1, 'nb_graphs_test': 1000, 'nb_graphs_val': 1}\n",
      "s\n",
      "e\n",
      "[I] Loading dataset SBM_CLUSTER...\n",
      "train, test, val sizes : 1 1000 1\n",
      "[I] Finished loading.\n",
      "[I] Data load time: 0.6958s\n"
     ]
    },
    {
     "name": "stderr",
     "output_type": "stream",
     "text": [
      "\n",
      " 18%|█▊        | 68/373 [47:48<5:13:52, 61.75s/it]\u001b[A"
     ]
    },
    {
     "name": "stdout",
     "output_type": "stream",
     "text": [
      "{'nb_clusters': 6, 'size_min': 5, 'size_max': 60, 'p': 0.65, 'q': 0.4, 'nb_graphs_train': 1, 'nb_graphs_test': 1000, 'nb_graphs_val': 1}\n",
      "s\n",
      "e\n",
      "[I] Loading dataset SBM_CLUSTER...\n",
      "train, test, val sizes : 1 1000 1\n",
      "[I] Finished loading.\n",
      "[I] Data load time: 0.7852s\n"
     ]
    },
    {
     "name": "stderr",
     "output_type": "stream",
     "text": [
      "\n",
      " 18%|█▊        | 69/373 [49:01<5:29:23, 65.01s/it]\u001b[A"
     ]
    },
    {
     "name": "stdout",
     "output_type": "stream",
     "text": [
      "{'nb_clusters': 6, 'size_min': 5, 'size_max': 60, 'p': 0.75, 'q': 0.1, 'nb_graphs_train': 1, 'nb_graphs_test': 1000, 'nb_graphs_val': 1}\n",
      "s\n",
      "e\n",
      "[I] Loading dataset SBM_CLUSTER...\n",
      "train, test, val sizes : 1 1000 1\n",
      "[I] Finished loading.\n",
      "[I] Data load time: 0.6120s\n"
     ]
    },
    {
     "name": "stderr",
     "output_type": "stream",
     "text": [
      "\n",
      " 19%|█▉        | 70/373 [49:56<5:13:26, 62.07s/it]\u001b[A"
     ]
    },
    {
     "name": "stdout",
     "output_type": "stream",
     "text": [
      "{'nb_clusters': 6, 'size_min': 5, 'size_max': 60, 'p': 0.75, 'q': 0.2, 'nb_graphs_train': 1, 'nb_graphs_test': 1000, 'nb_graphs_val': 1}\n",
      "s\n",
      "e\n",
      "[I] Loading dataset SBM_CLUSTER...\n",
      "train, test, val sizes : 1 1000 1\n",
      "[I] Finished loading.\n",
      "[I] Data load time: 0.6632s\n"
     ]
    },
    {
     "name": "stderr",
     "output_type": "stream",
     "text": [
      "\n",
      " 19%|█▉        | 71/373 [50:53<5:04:04, 60.41s/it]\u001b[A"
     ]
    },
    {
     "name": "stdout",
     "output_type": "stream",
     "text": [
      "{'nb_clusters': 6, 'size_min': 5, 'size_max': 60, 'p': 0.75, 'q': 0.3, 'nb_graphs_train': 1, 'nb_graphs_test': 1000, 'nb_graphs_val': 1}\n",
      "s\n",
      "e\n",
      "[I] Loading dataset SBM_CLUSTER...\n",
      "train, test, val sizes : 1 1000 1\n",
      "[I] Finished loading.\n",
      "[I] Data load time: 0.7124s\n"
     ]
    },
    {
     "name": "stderr",
     "output_type": "stream",
     "text": [
      "\n",
      " 19%|█▉        | 72/373 [51:55<5:06:07, 61.02s/it]\u001b[A"
     ]
    },
    {
     "name": "stdout",
     "output_type": "stream",
     "text": [
      "{'nb_clusters': 6, 'size_min': 5, 'size_max': 60, 'p': 0.75, 'q': 0.4, 'nb_graphs_train': 1, 'nb_graphs_test': 1000, 'nb_graphs_val': 1}\n",
      "s\n",
      "e\n",
      "[I] Loading dataset SBM_CLUSTER...\n",
      "train, test, val sizes : 1 1000 1\n",
      "[I] Finished loading.\n",
      "[I] Data load time: 0.7499s\n"
     ]
    },
    {
     "name": "stderr",
     "output_type": "stream",
     "text": [
      "\n",
      " 20%|█▉        | 73/373 [53:03<5:15:35, 63.12s/it]\u001b[A"
     ]
    },
    {
     "name": "stdout",
     "output_type": "stream",
     "text": [
      "{'nb_clusters': 6, 'size_min': 5, 'size_max': 60, 'p': 0.85, 'q': 0.1, 'nb_graphs_train': 1, 'nb_graphs_test': 1000, 'nb_graphs_val': 1}\n",
      "s\n",
      "e\n",
      "[I] Loading dataset SBM_CLUSTER...\n",
      "train, test, val sizes : 1 1000 1\n",
      "[I] Finished loading.\n",
      "[I] Data load time: 0.6254s\n"
     ]
    },
    {
     "name": "stderr",
     "output_type": "stream",
     "text": [
      "\n",
      " 20%|█▉        | 74/373 [53:59<5:03:08, 60.83s/it]\u001b[A"
     ]
    },
    {
     "name": "stdout",
     "output_type": "stream",
     "text": [
      "{'nb_clusters': 6, 'size_min': 5, 'size_max': 60, 'p': 0.85, 'q': 0.2, 'nb_graphs_train': 1, 'nb_graphs_test': 1000, 'nb_graphs_val': 1}\n",
      "s\n",
      "e\n",
      "[I] Loading dataset SBM_CLUSTER...\n",
      "train, test, val sizes : 1 1000 1\n",
      "[I] Finished loading.\n",
      "[I] Data load time: 0.6708s\n"
     ]
    },
    {
     "name": "stderr",
     "output_type": "stream",
     "text": [
      "\n",
      " 20%|██        | 75/373 [54:56<4:56:41, 59.74s/it]\u001b[A"
     ]
    },
    {
     "name": "stdout",
     "output_type": "stream",
     "text": [
      "{'nb_clusters': 6, 'size_min': 5, 'size_max': 60, 'p': 0.85, 'q': 0.3, 'nb_graphs_train': 1, 'nb_graphs_test': 1000, 'nb_graphs_val': 1}\n",
      "s\n",
      "e\n",
      "[I] Loading dataset SBM_CLUSTER...\n",
      "train, test, val sizes : 1 1000 1\n",
      "[I] Finished loading.\n",
      "[I] Data load time: 0.7093s\n"
     ]
    },
    {
     "name": "stderr",
     "output_type": "stream",
     "text": [
      "\n",
      " 20%|██        | 76/373 [55:56<4:57:01, 60.01s/it]\u001b[A"
     ]
    },
    {
     "name": "stdout",
     "output_type": "stream",
     "text": [
      "{'nb_clusters': 6, 'size_min': 5, 'size_max': 60, 'p': 0.85, 'q': 0.4, 'nb_graphs_train': 1, 'nb_graphs_test': 1000, 'nb_graphs_val': 1}\n",
      "s\n",
      "e\n",
      "[I] Loading dataset SBM_CLUSTER...\n",
      "train, test, val sizes : 1 1000 1\n",
      "[I] Finished loading.\n",
      "[I] Data load time: 0.7890s\n"
     ]
    },
    {
     "name": "stderr",
     "output_type": "stream",
     "text": [
      "\n",
      " 21%|██        | 77/373 [57:02<5:04:58, 61.82s/it]\u001b[A"
     ]
    },
    {
     "name": "stdout",
     "output_type": "stream",
     "text": [
      "{'nb_clusters': 6, 'size_min': 15, 'size_max': 30, 'p': 0.55, 'q': 0.2, 'nb_graphs_train': 1, 'nb_graphs_test': 1000, 'nb_graphs_val': 1}\n",
      "s\n",
      "e\n",
      "[I] Loading dataset SBM_CLUSTER...\n",
      "train, test, val sizes : 1 1000 1\n",
      "[I] Finished loading.\n",
      "[I] Data load time: 0.5232s\n"
     ]
    },
    {
     "name": "stderr",
     "output_type": "stream",
     "text": [
      "\n",
      " 21%|██        | 78/373 [57:44<4:34:24, 55.81s/it]\u001b[A"
     ]
    },
    {
     "name": "stdout",
     "output_type": "stream",
     "text": [
      "{'nb_clusters': 6, 'size_min': 15, 'size_max': 30, 'p': 0.55, 'q': 0.3, 'nb_graphs_train': 1, 'nb_graphs_test': 1000, 'nb_graphs_val': 1}\n",
      "s\n",
      "e\n",
      "[I] Loading dataset SBM_CLUSTER...\n",
      "train, test, val sizes : 1 1000 1\n",
      "[I] Finished loading.\n",
      "[I] Data load time: 0.5504s\n"
     ]
    },
    {
     "name": "stderr",
     "output_type": "stream",
     "text": [
      "\n",
      " 21%|██        | 79/373 [58:30<4:18:05, 52.67s/it]\u001b[A"
     ]
    },
    {
     "name": "stdout",
     "output_type": "stream",
     "text": [
      "{'nb_clusters': 6, 'size_min': 15, 'size_max': 30, 'p': 0.55, 'q': 0.4, 'nb_graphs_train': 1, 'nb_graphs_test': 1000, 'nb_graphs_val': 1}\n",
      "s\n",
      "e\n",
      "[I] Loading dataset SBM_CLUSTER...\n",
      "train, test, val sizes : 1 1000 1\n",
      "[I] Finished loading.\n",
      "[I] Data load time: 0.5868s\n"
     ]
    },
    {
     "name": "stderr",
     "output_type": "stream",
     "text": [
      "\n",
      " 21%|██▏       | 80/373 [59:18<4:10:40, 51.33s/it]\u001b[A"
     ]
    },
    {
     "name": "stdout",
     "output_type": "stream",
     "text": [
      "{'nb_clusters': 6, 'size_min': 15, 'size_max': 30, 'p': 0.65, 'q': 0.1, 'nb_graphs_train': 1, 'nb_graphs_test': 1000, 'nb_graphs_val': 1}\n",
      "s\n",
      "e\n",
      "[I] Loading dataset SBM_CLUSTER...\n",
      "train, test, val sizes : 1 1000 1\n",
      "[I] Finished loading.\n",
      "[I] Data load time: 0.5148s\n"
     ]
    },
    {
     "name": "stderr",
     "output_type": "stream",
     "text": [
      "\n",
      " 22%|██▏       | 81/373 [59:52<3:44:29, 46.13s/it]\u001b[A"
     ]
    },
    {
     "name": "stdout",
     "output_type": "stream",
     "text": [
      "{'nb_clusters': 6, 'size_min': 15, 'size_max': 30, 'p': 0.65, 'q': 0.2, 'nb_graphs_train': 1, 'nb_graphs_test': 1000, 'nb_graphs_val': 1}\n",
      "s\n",
      "e\n",
      "[I] Loading dataset SBM_CLUSTER...\n",
      "train, test, val sizes : 1 1000 1\n",
      "[I] Finished loading.\n",
      "[I] Data load time: 0.5301s\n"
     ]
    },
    {
     "name": "stderr",
     "output_type": "stream",
     "text": [
      "\n",
      " 22%|██▏       | 82/373 [1:00:30<3:31:40, 43.65s/it]\u001b[A"
     ]
    },
    {
     "name": "stdout",
     "output_type": "stream",
     "text": [
      "{'nb_clusters': 6, 'size_min': 15, 'size_max': 30, 'p': 0.65, 'q': 0.3, 'nb_graphs_train': 1, 'nb_graphs_test': 1000, 'nb_graphs_val': 1}\n",
      "s\n",
      "e\n",
      "[I] Loading dataset SBM_CLUSTER...\n",
      "train, test, val sizes : 1 1000 1\n",
      "[I] Finished loading.\n",
      "[I] Data load time: 0.5510s\n"
     ]
    },
    {
     "name": "stderr",
     "output_type": "stream",
     "text": [
      "\n",
      " 22%|██▏       | 83/373 [1:01:15<3:33:25, 44.16s/it]\u001b[A"
     ]
    },
    {
     "name": "stdout",
     "output_type": "stream",
     "text": [
      "{'nb_clusters': 6, 'size_min': 15, 'size_max': 30, 'p': 0.65, 'q': 0.4, 'nb_graphs_train': 1, 'nb_graphs_test': 1000, 'nb_graphs_val': 1}\n",
      "s\n",
      "e\n",
      "[I] Loading dataset SBM_CLUSTER...\n",
      "train, test, val sizes : 1 1000 1\n",
      "[I] Finished loading.\n",
      "[I] Data load time: 0.6047s\n"
     ]
    },
    {
     "name": "stderr",
     "output_type": "stream",
     "text": [
      "\n",
      " 23%|██▎       | 84/373 [1:02:03<3:37:46, 45.21s/it]\u001b[A"
     ]
    },
    {
     "name": "stdout",
     "output_type": "stream",
     "text": [
      "{'nb_clusters': 6, 'size_min': 15, 'size_max': 30, 'p': 0.75, 'q': 0.1, 'nb_graphs_train': 1, 'nb_graphs_test': 1000, 'nb_graphs_val': 1}\n",
      "s\n",
      "e\n",
      "[I] Loading dataset SBM_CLUSTER...\n",
      "train, test, val sizes : 1 1000 1\n",
      "[I] Finished loading.\n",
      "[I] Data load time: 0.5809s\n"
     ]
    },
    {
     "name": "stderr",
     "output_type": "stream",
     "text": [
      "\n",
      " 23%|██▎       | 85/373 [1:02:37<3:20:35, 41.79s/it]\u001b[A"
     ]
    },
    {
     "name": "stdout",
     "output_type": "stream",
     "text": [
      "{'nb_clusters': 6, 'size_min': 15, 'size_max': 30, 'p': 0.75, 'q': 0.2, 'nb_graphs_train': 1, 'nb_graphs_test': 1000, 'nb_graphs_val': 1}\n",
      "s\n",
      "e\n",
      "[I] Loading dataset SBM_CLUSTER...\n",
      "train, test, val sizes : 1 1000 1\n",
      "[I] Finished loading.\n",
      "[I] Data load time: 0.5357s\n"
     ]
    },
    {
     "name": "stderr",
     "output_type": "stream",
     "text": [
      "\n",
      " 23%|██▎       | 86/373 [1:03:13<3:11:57, 40.13s/it]\u001b[A"
     ]
    },
    {
     "name": "stdout",
     "output_type": "stream",
     "text": [
      "{'nb_clusters': 6, 'size_min': 15, 'size_max': 30, 'p': 0.75, 'q': 0.3, 'nb_graphs_train': 1, 'nb_graphs_test': 1000, 'nb_graphs_val': 1}\n",
      "s\n",
      "e\n",
      "[I] Loading dataset SBM_CLUSTER...\n",
      "train, test, val sizes : 1 1000 1\n",
      "[I] Finished loading.\n",
      "[I] Data load time: 0.5772s\n"
     ]
    },
    {
     "name": "stderr",
     "output_type": "stream",
     "text": [
      "\n",
      " 23%|██▎       | 87/373 [1:03:52<3:09:47, 39.82s/it]\u001b[A"
     ]
    },
    {
     "name": "stdout",
     "output_type": "stream",
     "text": [
      "{'nb_clusters': 6, 'size_min': 15, 'size_max': 30, 'p': 0.75, 'q': 0.4, 'nb_graphs_train': 1, 'nb_graphs_test': 1000, 'nb_graphs_val': 1}\n",
      "s\n",
      "e\n",
      "[I] Loading dataset SBM_CLUSTER...\n",
      "train, test, val sizes : 1 1000 1\n",
      "[I] Finished loading.\n",
      "[I] Data load time: 0.6195s\n"
     ]
    },
    {
     "name": "stderr",
     "output_type": "stream",
     "text": [
      "\n",
      " 24%|██▎       | 88/373 [1:04:39<3:19:56, 42.09s/it]\u001b[A"
     ]
    },
    {
     "name": "stdout",
     "output_type": "stream",
     "text": [
      "{'nb_clusters': 6, 'size_min': 15, 'size_max': 30, 'p': 0.85, 'q': 0.1, 'nb_graphs_train': 1, 'nb_graphs_test': 1000, 'nb_graphs_val': 1}\n",
      "s\n",
      "e\n",
      "[I] Loading dataset SBM_CLUSTER...\n",
      "train, test, val sizes : 1 1000 1\n",
      "[I] Finished loading.\n",
      "[I] Data load time: 0.5255s\n"
     ]
    },
    {
     "name": "stderr",
     "output_type": "stream",
     "text": [
      "\n",
      " 24%|██▍       | 89/373 [1:05:11<3:05:13, 39.13s/it]\u001b[A"
     ]
    },
    {
     "name": "stdout",
     "output_type": "stream",
     "text": [
      "{'nb_clusters': 6, 'size_min': 15, 'size_max': 30, 'p': 0.85, 'q': 0.2, 'nb_graphs_train': 1, 'nb_graphs_test': 1000, 'nb_graphs_val': 1}\n",
      "s\n",
      "e\n",
      "[I] Loading dataset SBM_CLUSTER...\n",
      "train, test, val sizes : 1 1000 1\n",
      "[I] Finished loading.\n",
      "[I] Data load time: 0.5398s\n"
     ]
    },
    {
     "name": "stderr",
     "output_type": "stream",
     "text": [
      "\n",
      " 24%|██▍       | 90/373 [1:05:48<3:00:45, 38.32s/it]\u001b[A"
     ]
    },
    {
     "name": "stdout",
     "output_type": "stream",
     "text": [
      "{'nb_clusters': 6, 'size_min': 15, 'size_max': 30, 'p': 0.85, 'q': 0.3, 'nb_graphs_train': 1, 'nb_graphs_test': 1000, 'nb_graphs_val': 1}\n",
      "s\n",
      "e\n",
      "[I] Loading dataset SBM_CLUSTER...\n",
      "train, test, val sizes : 1 1000 1\n",
      "[I] Finished loading.\n",
      "[I] Data load time: 0.5784s\n"
     ]
    },
    {
     "name": "stderr",
     "output_type": "stream",
     "text": [
      "\n",
      " 24%|██▍       | 91/373 [1:06:25<2:58:31, 37.98s/it]\u001b[A"
     ]
    },
    {
     "name": "stdout",
     "output_type": "stream",
     "text": [
      "{'nb_clusters': 6, 'size_min': 15, 'size_max': 30, 'p': 0.85, 'q': 0.4, 'nb_graphs_train': 1, 'nb_graphs_test': 1000, 'nb_graphs_val': 1}\n",
      "s\n",
      "e\n",
      "[I] Loading dataset SBM_CLUSTER...\n",
      "train, test, val sizes : 1 1000 1\n",
      "[I] Finished loading.\n",
      "[I] Data load time: 0.6085s\n"
     ]
    },
    {
     "name": "stderr",
     "output_type": "stream",
     "text": [
      "\n",
      " 25%|██▍       | 92/373 [1:07:07<3:02:48, 39.03s/it]\u001b[A"
     ]
    },
    {
     "name": "stdout",
     "output_type": "stream",
     "text": [
      "{'nb_clusters': 6, 'size_min': 15, 'size_max': 40, 'p': 0.55, 'q': 0.1, 'nb_graphs_train': 1, 'nb_graphs_test': 1000, 'nb_graphs_val': 1}\n",
      "s\n",
      "e\n",
      "[I] Loading dataset SBM_CLUSTER...\n",
      "train, test, val sizes : 1 1000 1\n",
      "[I] Finished loading.\n",
      "[I] Data load time: 0.5388s\n"
     ]
    },
    {
     "name": "stderr",
     "output_type": "stream",
     "text": [
      "\n",
      " 25%|██▍       | 93/373 [1:07:49<3:07:11, 40.11s/it]\u001b[A"
     ]
    },
    {
     "name": "stdout",
     "output_type": "stream",
     "text": [
      "{'nb_clusters': 6, 'size_min': 15, 'size_max': 40, 'p': 0.55, 'q': 0.2, 'nb_graphs_train': 1, 'nb_graphs_test': 1000, 'nb_graphs_val': 1}\n",
      "s\n",
      "e\n",
      "[I] Loading dataset SBM_CLUSTER...\n",
      "train, test, val sizes : 1 1000 1\n",
      "[I] Finished loading.\n",
      "[I] Data load time: 0.6238s\n"
     ]
    },
    {
     "name": "stderr",
     "output_type": "stream",
     "text": [
      "\n",
      " 25%|██▌       | 94/373 [1:08:39<3:20:36, 43.14s/it]\u001b[A"
     ]
    },
    {
     "name": "stdout",
     "output_type": "stream",
     "text": [
      "{'nb_clusters': 6, 'size_min': 15, 'size_max': 40, 'p': 0.55, 'q': 0.3, 'nb_graphs_train': 1, 'nb_graphs_test': 1000, 'nb_graphs_val': 1}\n",
      "s\n",
      "e\n",
      "[I] Loading dataset SBM_CLUSTER...\n",
      "train, test, val sizes : 1 1000 1\n",
      "[I] Finished loading.\n",
      "[I] Data load time: 0.6224s\n"
     ]
    },
    {
     "name": "stderr",
     "output_type": "stream",
     "text": [
      "\n",
      " 25%|██▌       | 95/373 [1:09:35<3:37:38, 46.97s/it]\u001b[A"
     ]
    },
    {
     "name": "stdout",
     "output_type": "stream",
     "text": [
      "{'nb_clusters': 6, 'size_min': 15, 'size_max': 40, 'p': 0.55, 'q': 0.4, 'nb_graphs_train': 1, 'nb_graphs_test': 1000, 'nb_graphs_val': 1}\n",
      "s\n",
      "e\n",
      "[I] Loading dataset SBM_CLUSTER...\n",
      "train, test, val sizes : 1 1000 1\n",
      "[I] Finished loading.\n",
      "[I] Data load time: 0.6515s\n"
     ]
    },
    {
     "name": "stderr",
     "output_type": "stream",
     "text": [
      "\n",
      " 26%|██▌       | 96/373 [1:10:34<3:53:27, 50.57s/it]\u001b[A"
     ]
    },
    {
     "name": "stdout",
     "output_type": "stream",
     "text": [
      "{'nb_clusters': 6, 'size_min': 15, 'size_max': 40, 'p': 0.65, 'q': 0.1, 'nb_graphs_train': 1, 'nb_graphs_test': 1000, 'nb_graphs_val': 1}\n",
      "s\n",
      "e\n",
      "[I] Loading dataset SBM_CLUSTER...\n",
      "train, test, val sizes : 1 1000 1\n",
      "[I] Finished loading.\n",
      "[I] Data load time: 0.5394s\n"
     ]
    },
    {
     "name": "stderr",
     "output_type": "stream",
     "text": [
      "\n",
      " 26%|██▌       | 97/373 [1:11:16<3:40:03, 47.84s/it]\u001b[A"
     ]
    },
    {
     "name": "stdout",
     "output_type": "stream",
     "text": [
      "{'nb_clusters': 6, 'size_min': 15, 'size_max': 40, 'p': 0.65, 'q': 0.2, 'nb_graphs_train': 1, 'nb_graphs_test': 1000, 'nb_graphs_val': 1}\n",
      "s\n",
      "e\n",
      "[I] Loading dataset SBM_CLUSTER...\n",
      "train, test, val sizes : 1 1000 1\n",
      "[I] Finished loading.\n",
      "[I] Data load time: 0.5875s\n"
     ]
    },
    {
     "name": "stderr",
     "output_type": "stream",
     "text": [
      "\n",
      " 26%|██▋       | 98/373 [1:12:02<3:36:49, 47.31s/it]\u001b[A"
     ]
    },
    {
     "name": "stdout",
     "output_type": "stream",
     "text": [
      "{'nb_clusters': 6, 'size_min': 15, 'size_max': 40, 'p': 0.65, 'q': 0.3, 'nb_graphs_train': 1, 'nb_graphs_test': 1000, 'nb_graphs_val': 1}\n",
      "s\n",
      "e\n",
      "[I] Loading dataset SBM_CLUSTER...\n",
      "train, test, val sizes : 1 1000 1\n",
      "[I] Finished loading.\n",
      "[I] Data load time: 0.6304s\n"
     ]
    },
    {
     "name": "stderr",
     "output_type": "stream",
     "text": [
      "\n",
      " 27%|██▋       | 99/373 [1:12:53<3:41:55, 48.59s/it]\u001b[A"
     ]
    },
    {
     "name": "stdout",
     "output_type": "stream",
     "text": [
      "{'nb_clusters': 6, 'size_min': 15, 'size_max': 40, 'p': 0.65, 'q': 0.4, 'nb_graphs_train': 1, 'nb_graphs_test': 1000, 'nb_graphs_val': 1}\n",
      "s\n",
      "e\n",
      "[I] Loading dataset SBM_CLUSTER...\n",
      "train, test, val sizes : 1 1000 1\n",
      "[I] Finished loading.\n",
      "[I] Data load time: 0.6718s\n"
     ]
    },
    {
     "name": "stderr",
     "output_type": "stream",
     "text": [
      "\n",
      " 27%|██▋       | 100/373 [1:13:52<3:54:56, 51.63s/it]\u001b[A"
     ]
    },
    {
     "name": "stdout",
     "output_type": "stream",
     "text": [
      "{'nb_clusters': 6, 'size_min': 15, 'size_max': 40, 'p': 0.75, 'q': 0.1, 'nb_graphs_train': 1, 'nb_graphs_test': 1000, 'nb_graphs_val': 1}\n",
      "s\n",
      "e\n",
      "[I] Loading dataset SBM_CLUSTER...\n",
      "train, test, val sizes : 1 1000 1\n",
      "[I] Finished loading.\n",
      "[I] Data load time: 0.5425s\n"
     ]
    },
    {
     "name": "stderr",
     "output_type": "stream",
     "text": [
      "\n",
      " 27%|██▋       | 101/373 [1:14:33<3:39:33, 48.43s/it]\u001b[A"
     ]
    },
    {
     "name": "stdout",
     "output_type": "stream",
     "text": [
      "{'nb_clusters': 6, 'size_min': 15, 'size_max': 40, 'p': 0.75, 'q': 0.2, 'nb_graphs_train': 1, 'nb_graphs_test': 1000, 'nb_graphs_val': 1}\n",
      "s\n",
      "e\n",
      "[I] Loading dataset SBM_CLUSTER...\n",
      "train, test, val sizes : 1 1000 1\n",
      "[I] Finished loading.\n",
      "[I] Data load time: 0.6413s\n"
     ]
    },
    {
     "name": "stderr",
     "output_type": "stream",
     "text": [
      "\n",
      " 27%|██▋       | 102/373 [1:15:18<3:34:23, 47.47s/it]\u001b[A"
     ]
    },
    {
     "name": "stdout",
     "output_type": "stream",
     "text": [
      "{'nb_clusters': 6, 'size_min': 15, 'size_max': 40, 'p': 0.75, 'q': 0.3, 'nb_graphs_train': 1, 'nb_graphs_test': 1000, 'nb_graphs_val': 1}\n",
      "s\n",
      "e\n",
      "[I] Loading dataset SBM_CLUSTER...\n",
      "train, test, val sizes : 1 1000 1\n",
      "[I] Finished loading.\n",
      "[I] Data load time: 0.6494s\n"
     ]
    },
    {
     "name": "stderr",
     "output_type": "stream",
     "text": [
      "\n",
      " 28%|██▊       | 103/373 [1:16:06<3:34:29, 47.67s/it]\u001b[A"
     ]
    },
    {
     "name": "stdout",
     "output_type": "stream",
     "text": [
      "{'nb_clusters': 6, 'size_min': 15, 'size_max': 40, 'p': 0.75, 'q': 0.4, 'nb_graphs_train': 1, 'nb_graphs_test': 1000, 'nb_graphs_val': 1}\n",
      "s\n",
      "e\n",
      "[I] Loading dataset SBM_CLUSTER...\n",
      "train, test, val sizes : 1 1000 1\n",
      "[I] Finished loading.\n",
      "[I] Data load time: 0.6847s\n"
     ]
    },
    {
     "name": "stderr",
     "output_type": "stream",
     "text": [
      "\n",
      " 28%|██▊       | 104/373 [1:17:04<3:46:58, 50.63s/it]\u001b[A"
     ]
    },
    {
     "name": "stdout",
     "output_type": "stream",
     "text": [
      "{'nb_clusters': 6, 'size_min': 15, 'size_max': 40, 'p': 0.85, 'q': 0.1, 'nb_graphs_train': 1, 'nb_graphs_test': 1000, 'nb_graphs_val': 1}\n",
      "s\n",
      "e\n",
      "[I] Loading dataset SBM_CLUSTER...\n",
      "train, test, val sizes : 1 1000 1\n",
      "[I] Finished loading.\n",
      "[I] Data load time: 0.5526s\n"
     ]
    },
    {
     "name": "stderr",
     "output_type": "stream",
     "text": [
      "\n",
      " 28%|██▊       | 105/373 [1:17:45<3:33:28, 47.79s/it]\u001b[A"
     ]
    },
    {
     "name": "stdout",
     "output_type": "stream",
     "text": [
      "{'nb_clusters': 6, 'size_min': 15, 'size_max': 40, 'p': 0.85, 'q': 0.2, 'nb_graphs_train': 1, 'nb_graphs_test': 1000, 'nb_graphs_val': 1}\n",
      "s\n",
      "e\n",
      "[I] Loading dataset SBM_CLUSTER...\n",
      "train, test, val sizes : 1 1000 1\n",
      "[I] Finished loading.\n",
      "[I] Data load time: 0.6062s\n"
     ]
    },
    {
     "name": "stderr",
     "output_type": "stream",
     "text": [
      "\n",
      " 28%|██▊       | 106/373 [1:18:29<3:27:28, 46.62s/it]\u001b[A"
     ]
    },
    {
     "name": "stdout",
     "output_type": "stream",
     "text": [
      "{'nb_clusters': 6, 'size_min': 15, 'size_max': 40, 'p': 0.85, 'q': 0.3, 'nb_graphs_train': 1, 'nb_graphs_test': 1000, 'nb_graphs_val': 1}\n",
      "s\n",
      "e\n",
      "[I] Loading dataset SBM_CLUSTER...\n",
      "train, test, val sizes : 1 1000 1\n",
      "[I] Finished loading.\n",
      "[I] Data load time: 0.6513s\n"
     ]
    },
    {
     "name": "stderr",
     "output_type": "stream",
     "text": [
      "\n",
      " 29%|██▊       | 107/373 [1:19:14<3:24:09, 46.05s/it]\u001b[A"
     ]
    },
    {
     "name": "stdout",
     "output_type": "stream",
     "text": [
      "{'nb_clusters': 6, 'size_min': 15, 'size_max': 40, 'p': 0.85, 'q': 0.4, 'nb_graphs_train': 1, 'nb_graphs_test': 1000, 'nb_graphs_val': 1}\n",
      "s\n",
      "e\n",
      "[I] Loading dataset SBM_CLUSTER...\n",
      "train, test, val sizes : 1 1000 1\n",
      "[I] Finished loading.\n",
      "[I] Data load time: 0.6863s\n"
     ]
    },
    {
     "name": "stderr",
     "output_type": "stream",
     "text": [
      "\n",
      " 29%|██▉       | 108/373 [1:20:05<3:30:11, 47.59s/it]\u001b[A"
     ]
    },
    {
     "name": "stdout",
     "output_type": "stream",
     "text": [
      "{'nb_clusters': 6, 'size_min': 15, 'size_max': 50, 'p': 0.55, 'q': 0.2, 'nb_graphs_train': 1, 'nb_graphs_test': 1000, 'nb_graphs_val': 1}\n",
      "s\n",
      "e\n",
      "[I] Loading dataset SBM_CLUSTER...\n",
      "train, test, val sizes : 1 1000 1\n",
      "[I] Finished loading.\n",
      "[I] Data load time: 0.6257s\n"
     ]
    },
    {
     "name": "stderr",
     "output_type": "stream",
     "text": [
      "\n",
      " 29%|██▉       | 109/373 [1:21:03<3:43:40, 50.83s/it]\u001b[A"
     ]
    },
    {
     "name": "stdout",
     "output_type": "stream",
     "text": [
      "{'nb_clusters': 6, 'size_min': 15, 'size_max': 50, 'p': 0.55, 'q': 0.3, 'nb_graphs_train': 1, 'nb_graphs_test': 1000, 'nb_graphs_val': 1}\n",
      "s\n",
      "e\n",
      "[I] Loading dataset SBM_CLUSTER...\n",
      "train, test, val sizes : 1 1000 1\n",
      "[I] Finished loading.\n",
      "[I] Data load time: 0.7666s\n"
     ]
    },
    {
     "name": "stderr",
     "output_type": "stream",
     "text": [
      "\n",
      " 29%|██▉       | 110/373 [1:22:18<4:14:09, 57.98s/it]\u001b[A"
     ]
    },
    {
     "name": "stdout",
     "output_type": "stream",
     "text": [
      "{'nb_clusters': 6, 'size_min': 15, 'size_max': 50, 'p': 0.55, 'q': 0.4, 'nb_graphs_train': 1, 'nb_graphs_test': 1000, 'nb_graphs_val': 1}\n",
      "s\n",
      "e\n",
      "[I] Loading dataset SBM_CLUSTER...\n",
      "train, test, val sizes : 1 1000 1\n",
      "[I] Finished loading.\n",
      "[I] Data load time: 0.7142s\n"
     ]
    },
    {
     "name": "stderr",
     "output_type": "stream",
     "text": [
      "\n",
      " 30%|██▉       | 111/373 [1:23:30<4:31:52, 62.26s/it]\u001b[A"
     ]
    },
    {
     "name": "stdout",
     "output_type": "stream",
     "text": [
      "{'nb_clusters': 6, 'size_min': 15, 'size_max': 50, 'p': 0.65, 'q': 0.1, 'nb_graphs_train': 1, 'nb_graphs_test': 1000, 'nb_graphs_val': 1}\n",
      "s\n",
      "e\n",
      "[I] Loading dataset SBM_CLUSTER...\n",
      "train, test, val sizes : 1 1000 1\n",
      "[I] Finished loading.\n",
      "[I] Data load time: 0.5928s\n"
     ]
    },
    {
     "name": "stderr",
     "output_type": "stream",
     "text": [
      "\n",
      " 30%|███       | 112/373 [1:24:23<4:18:03, 59.32s/it]\u001b[A"
     ]
    },
    {
     "name": "stdout",
     "output_type": "stream",
     "text": [
      "{'nb_clusters': 6, 'size_min': 15, 'size_max': 50, 'p': 0.65, 'q': 0.2, 'nb_graphs_train': 1, 'nb_graphs_test': 1000, 'nb_graphs_val': 1}\n",
      "s\n",
      "e\n",
      "[I] Loading dataset SBM_CLUSTER...\n",
      "train, test, val sizes : 1 1000 1\n",
      "[I] Finished loading.\n",
      "[I] Data load time: 0.6425s\n"
     ]
    },
    {
     "name": "stderr",
     "output_type": "stream",
     "text": [
      "\n",
      " 30%|███       | 113/373 [1:25:18<4:11:12, 57.97s/it]\u001b[A"
     ]
    },
    {
     "name": "stdout",
     "output_type": "stream",
     "text": [
      "{'nb_clusters': 6, 'size_min': 15, 'size_max': 50, 'p': 0.65, 'q': 0.3, 'nb_graphs_train': 1, 'nb_graphs_test': 1000, 'nb_graphs_val': 1}\n",
      "s\n",
      "e\n",
      "[I] Loading dataset SBM_CLUSTER...\n",
      "train, test, val sizes : 1 1000 1\n",
      "[I] Finished loading.\n",
      "[I] Data load time: 0.6735s\n"
     ]
    },
    {
     "name": "stderr",
     "output_type": "stream",
     "text": [
      "\n",
      " 31%|███       | 114/373 [1:26:24<4:21:18, 60.53s/it]\u001b[A"
     ]
    },
    {
     "name": "stdout",
     "output_type": "stream",
     "text": [
      "{'nb_clusters': 6, 'size_min': 15, 'size_max': 50, 'p': 0.65, 'q': 0.4, 'nb_graphs_train': 1, 'nb_graphs_test': 1000, 'nb_graphs_val': 1}\n",
      "s\n",
      "e\n",
      "[I] Loading dataset SBM_CLUSTER...\n",
      "train, test, val sizes : 1 1000 1\n",
      "[I] Finished loading.\n",
      "[I] Data load time: 0.7244s\n"
     ]
    },
    {
     "name": "stderr",
     "output_type": "stream",
     "text": [
      "\n",
      " 31%|███       | 115/373 [1:27:36<4:34:50, 63.92s/it]\u001b[A"
     ]
    },
    {
     "name": "stdout",
     "output_type": "stream",
     "text": [
      "{'nb_clusters': 6, 'size_min': 15, 'size_max': 50, 'p': 0.75, 'q': 0.1, 'nb_graphs_train': 1, 'nb_graphs_test': 1000, 'nb_graphs_val': 1}\n",
      "s\n",
      "e\n",
      "[I] Loading dataset SBM_CLUSTER...\n",
      "train, test, val sizes : 1 1000 1\n",
      "[I] Finished loading.\n",
      "[I] Data load time: 0.5977s\n"
     ]
    },
    {
     "name": "stderr",
     "output_type": "stream",
     "text": [
      "\n",
      " 31%|███       | 116/373 [1:28:28<4:18:21, 60.32s/it]\u001b[A"
     ]
    },
    {
     "name": "stdout",
     "output_type": "stream",
     "text": [
      "{'nb_clusters': 6, 'size_min': 15, 'size_max': 50, 'p': 0.75, 'q': 0.2, 'nb_graphs_train': 1, 'nb_graphs_test': 1000, 'nb_graphs_val': 1}\n",
      "s\n",
      "e\n",
      "[I] Loading dataset SBM_CLUSTER...\n",
      "train, test, val sizes : 1 1000 1\n",
      "[I] Finished loading.\n",
      "[I] Data load time: 0.6825s\n"
     ]
    },
    {
     "name": "stderr",
     "output_type": "stream",
     "text": [
      "\n",
      " 31%|███▏      | 117/373 [1:29:24<4:12:17, 59.13s/it]\u001b[A"
     ]
    },
    {
     "name": "stdout",
     "output_type": "stream",
     "text": [
      "{'nb_clusters': 6, 'size_min': 15, 'size_max': 50, 'p': 0.75, 'q': 0.3, 'nb_graphs_train': 1, 'nb_graphs_test': 1000, 'nb_graphs_val': 1}\n",
      "s\n",
      "e\n",
      "[I] Loading dataset SBM_CLUSTER...\n",
      "train, test, val sizes : 1 1000 1\n",
      "[I] Finished loading.\n",
      "[I] Data load time: 0.8034s\n"
     ]
    },
    {
     "name": "stderr",
     "output_type": "stream",
     "text": [
      "\n",
      " 32%|███▏      | 118/373 [1:30:25<4:13:54, 59.74s/it]\u001b[A"
     ]
    },
    {
     "name": "stdout",
     "output_type": "stream",
     "text": [
      "{'nb_clusters': 6, 'size_min': 15, 'size_max': 50, 'p': 0.75, 'q': 0.4, 'nb_graphs_train': 1, 'nb_graphs_test': 1000, 'nb_graphs_val': 1}\n",
      "s\n",
      "e\n",
      "[I] Loading dataset SBM_CLUSTER...\n",
      "train, test, val sizes : 1 1000 1\n",
      "[I] Finished loading.\n",
      "[I] Data load time: 0.7363s\n"
     ]
    },
    {
     "name": "stderr",
     "output_type": "stream",
     "text": [
      "\n",
      " 32%|███▏      | 119/373 [1:31:37<4:27:23, 63.16s/it]\u001b[A"
     ]
    },
    {
     "name": "stdout",
     "output_type": "stream",
     "text": [
      "{'nb_clusters': 6, 'size_min': 15, 'size_max': 50, 'p': 0.85, 'q': 0.1, 'nb_graphs_train': 1, 'nb_graphs_test': 1000, 'nb_graphs_val': 1}\n",
      "s\n",
      "e\n",
      "[I] Loading dataset SBM_CLUSTER...\n",
      "train, test, val sizes : 1 1000 1\n",
      "[I] Finished loading.\n",
      "[I] Data load time: 0.6245s\n"
     ]
    },
    {
     "name": "stderr",
     "output_type": "stream",
     "text": [
      "\n",
      " 32%|███▏      | 120/373 [1:32:30<4:14:18, 60.31s/it]\u001b[A"
     ]
    },
    {
     "name": "stdout",
     "output_type": "stream",
     "text": [
      "{'nb_clusters': 6, 'size_min': 15, 'size_max': 50, 'p': 0.85, 'q': 0.2, 'nb_graphs_train': 1, 'nb_graphs_test': 1000, 'nb_graphs_val': 1}\n",
      "s\n",
      "e\n",
      "[I] Loading dataset SBM_CLUSTER...\n",
      "train, test, val sizes : 1 1000 1\n",
      "[I] Finished loading.\n",
      "[I] Data load time: 0.6569s\n"
     ]
    },
    {
     "name": "stderr",
     "output_type": "stream",
     "text": [
      "\n",
      " 32%|███▏      | 121/373 [1:33:24<4:04:54, 58.31s/it]\u001b[A"
     ]
    },
    {
     "name": "stdout",
     "output_type": "stream",
     "text": [
      "{'nb_clusters': 6, 'size_min': 15, 'size_max': 50, 'p': 0.85, 'q': 0.3, 'nb_graphs_train': 1, 'nb_graphs_test': 1000, 'nb_graphs_val': 1}\n",
      "s\n",
      "e\n",
      "[I] Loading dataset SBM_CLUSTER...\n",
      "train, test, val sizes : 1 1000 1\n",
      "[I] Finished loading.\n",
      "[I] Data load time: 0.6861s\n"
     ]
    },
    {
     "name": "stderr",
     "output_type": "stream",
     "text": [
      "\n",
      " 33%|███▎      | 122/373 [1:34:23<4:05:00, 58.57s/it]\u001b[A"
     ]
    },
    {
     "name": "stdout",
     "output_type": "stream",
     "text": [
      "{'nb_clusters': 6, 'size_min': 15, 'size_max': 50, 'p': 0.85, 'q': 0.4, 'nb_graphs_train': 1, 'nb_graphs_test': 1000, 'nb_graphs_val': 1}\n",
      "s\n",
      "e\n",
      "[I] Loading dataset SBM_CLUSTER...\n",
      "train, test, val sizes : 1 1000 1\n",
      "[I] Finished loading.\n",
      "[I] Data load time: 0.7357s\n"
     ]
    },
    {
     "name": "stderr",
     "output_type": "stream",
     "text": [
      "\n",
      " 33%|███▎      | 123/373 [1:35:23<4:05:45, 58.98s/it]\u001b[A"
     ]
    },
    {
     "name": "stdout",
     "output_type": "stream",
     "text": [
      "{'nb_clusters': 6, 'size_min': 15, 'size_max': 60, 'p': 0.55, 'q': 0.1, 'nb_graphs_train': 1, 'nb_graphs_test': 1000, 'nb_graphs_val': 1}\n",
      "s\n",
      "e\n",
      "[I] Loading dataset SBM_CLUSTER...\n",
      "train, test, val sizes : 1 1000 1\n",
      "[I] Finished loading.\n",
      "[I] Data load time: 0.6148s\n"
     ]
    },
    {
     "name": "stderr",
     "output_type": "stream",
     "text": [
      "\n",
      " 33%|███▎      | 124/373 [1:36:28<4:12:21, 60.81s/it]\u001b[A"
     ]
    },
    {
     "name": "stdout",
     "output_type": "stream",
     "text": [
      "{'nb_clusters': 6, 'size_min': 15, 'size_max': 60, 'p': 0.55, 'q': 0.2, 'nb_graphs_train': 1, 'nb_graphs_test': 1000, 'nb_graphs_val': 1}\n",
      "s\n",
      "e\n",
      "[I] Loading dataset SBM_CLUSTER...\n",
      "train, test, val sizes : 1 1000 1\n",
      "[I] Finished loading.\n",
      "[I] Data load time: 0.6720s\n"
     ]
    },
    {
     "name": "stderr",
     "output_type": "stream",
     "text": [
      "\n",
      " 34%|███▎      | 125/373 [1:37:39<4:24:25, 63.97s/it]\u001b[A"
     ]
    },
    {
     "name": "stdout",
     "output_type": "stream",
     "text": [
      "{'nb_clusters': 6, 'size_min': 15, 'size_max': 60, 'p': 0.55, 'q': 0.4, 'nb_graphs_train': 1, 'nb_graphs_test': 1000, 'nb_graphs_val': 1}\n",
      "s\n",
      "e\n",
      "[I] Loading dataset SBM_CLUSTER...\n",
      "train, test, val sizes : 1 1000 1\n",
      "[I] Finished loading.\n",
      "[I] Data load time: 0.7772s\n"
     ]
    },
    {
     "name": "stderr",
     "output_type": "stream",
     "text": [
      "\n",
      " 34%|███▍      | 126/373 [1:39:07<4:52:04, 70.95s/it]\u001b[A"
     ]
    },
    {
     "name": "stdout",
     "output_type": "stream",
     "text": [
      "{'nb_clusters': 6, 'size_min': 15, 'size_max': 60, 'p': 0.85, 'q': 0.3, 'nb_graphs_train': 1, 'nb_graphs_test': 1000, 'nb_graphs_val': 1}\n",
      "s\n",
      "e\n",
      "[I] Loading dataset SBM_CLUSTER...\n",
      "train, test, val sizes : 1 1000 1\n",
      "[I] Finished loading.\n",
      "[I] Data load time: 0.8251s\n"
     ]
    },
    {
     "name": "stderr",
     "output_type": "stream",
     "text": [
      "\n",
      " 34%|███▍      | 127/373 [1:40:17<4:49:57, 70.72s/it]\u001b[A"
     ]
    },
    {
     "name": "stdout",
     "output_type": "stream",
     "text": [
      "{'nb_clusters': 6, 'size_min': 15, 'size_max': 60, 'p': 0.85, 'q': 0.4, 'nb_graphs_train': 1, 'nb_graphs_test': 1000, 'nb_graphs_val': 1}\n",
      "s\n",
      "e\n",
      "[I] Loading dataset SBM_CLUSTER...\n",
      "train, test, val sizes : 1 1000 1\n",
      "[I] Finished loading.\n",
      "[I] Data load time: 0.8198s\n"
     ]
    },
    {
     "name": "stderr",
     "output_type": "stream",
     "text": [
      "\n",
      " 34%|███▍      | 128/373 [1:41:34<4:56:25, 72.60s/it]\u001b[A"
     ]
    },
    {
     "name": "stdout",
     "output_type": "stream",
     "text": [
      "{'nb_clusters': 6, 'size_min': 25, 'size_max': 30, 'p': 0.55, 'q': 0.1, 'nb_graphs_train': 1, 'nb_graphs_test': 1000, 'nb_graphs_val': 1}\n",
      "s\n",
      "e\n",
      "[I] Loading dataset SBM_CLUSTER...\n",
      "train, test, val sizes : 1 1000 1\n",
      "[I] Finished loading.\n",
      "[I] Data load time: 0.5378s\n"
     ]
    },
    {
     "name": "stderr",
     "output_type": "stream",
     "text": [
      "\n",
      " 35%|███▍      | 129/373 [1:42:17<4:19:37, 63.84s/it]\u001b[A"
     ]
    },
    {
     "name": "stdout",
     "output_type": "stream",
     "text": [
      "{'nb_clusters': 6, 'size_min': 25, 'size_max': 30, 'p': 0.55, 'q': 0.2, 'nb_graphs_train': 1, 'nb_graphs_test': 1000, 'nb_graphs_val': 1}\n",
      "s\n",
      "e\n",
      "[I] Loading dataset SBM_CLUSTER...\n",
      "train, test, val sizes : 1 1000 1\n",
      "[I] Finished loading.\n",
      "[I] Data load time: 0.5809s\n"
     ]
    },
    {
     "name": "stderr",
     "output_type": "stream",
     "text": [
      "\n",
      " 35%|███▍      | 130/373 [1:43:04<3:57:37, 58.67s/it]\u001b[A"
     ]
    },
    {
     "name": "stdout",
     "output_type": "stream",
     "text": [
      "{'nb_clusters': 6, 'size_min': 25, 'size_max': 30, 'p': 0.55, 'q': 0.3, 'nb_graphs_train': 1, 'nb_graphs_test': 1000, 'nb_graphs_val': 1}\n",
      "s\n",
      "e\n",
      "[I] Loading dataset SBM_CLUSTER...\n",
      "train, test, val sizes : 1 1000 1\n",
      "[I] Finished loading.\n",
      "[I] Data load time: 0.6266s\n"
     ]
    },
    {
     "name": "stderr",
     "output_type": "stream",
     "text": [
      "\n",
      " 35%|███▌      | 131/373 [1:44:01<3:54:34, 58.16s/it]\u001b[A"
     ]
    },
    {
     "name": "stdout",
     "output_type": "stream",
     "text": [
      "{'nb_clusters': 6, 'size_min': 25, 'size_max': 30, 'p': 0.55, 'q': 0.4, 'nb_graphs_train': 1, 'nb_graphs_test': 1000, 'nb_graphs_val': 1}\n",
      "s\n",
      "e\n",
      "[I] Loading dataset SBM_CLUSTER...\n",
      "train, test, val sizes : 1 1000 1\n",
      "[I] Finished loading.\n",
      "[I] Data load time: 0.6627s\n"
     ]
    },
    {
     "name": "stderr",
     "output_type": "stream",
     "text": [
      "\n",
      " 35%|███▌      | 132/373 [1:44:58<3:52:43, 57.94s/it]\u001b[A"
     ]
    },
    {
     "name": "stdout",
     "output_type": "stream",
     "text": [
      "{'nb_clusters': 6, 'size_min': 25, 'size_max': 30, 'p': 0.65, 'q': 0.1, 'nb_graphs_train': 1, 'nb_graphs_test': 1000, 'nb_graphs_val': 1}\n",
      "s\n",
      "e\n",
      "[I] Loading dataset SBM_CLUSTER...\n",
      "train, test, val sizes : 1 1000 1\n",
      "[I] Finished loading.\n",
      "[I] Data load time: 0.5387s\n"
     ]
    },
    {
     "name": "stderr",
     "output_type": "stream",
     "text": [
      "\n",
      " 36%|███▌      | 133/373 [1:45:40<3:32:02, 53.01s/it]\u001b[A"
     ]
    },
    {
     "name": "stdout",
     "output_type": "stream",
     "text": [
      "{'nb_clusters': 6, 'size_min': 25, 'size_max': 30, 'p': 0.65, 'q': 0.2, 'nb_graphs_train': 1, 'nb_graphs_test': 1000, 'nb_graphs_val': 1}\n",
      "s\n",
      "e\n",
      "[I] Loading dataset SBM_CLUSTER...\n",
      "train, test, val sizes : 1 1000 1\n",
      "[I] Finished loading.\n",
      "[I] Data load time: 0.5806s\n"
     ]
    },
    {
     "name": "stderr",
     "output_type": "stream",
     "text": [
      "\n",
      " 36%|███▌      | 134/373 [1:46:23<3:19:07, 49.99s/it]\u001b[A"
     ]
    },
    {
     "name": "stdout",
     "output_type": "stream",
     "text": [
      "{'nb_clusters': 6, 'size_min': 25, 'size_max': 30, 'p': 0.65, 'q': 0.3, 'nb_graphs_train': 1, 'nb_graphs_test': 1000, 'nb_graphs_val': 1}\n",
      "s\n",
      "e\n",
      "[I] Loading dataset SBM_CLUSTER...\n",
      "train, test, val sizes : 1 1000 1\n",
      "[I] Finished loading.\n",
      "[I] Data load time: 0.6793s\n"
     ]
    },
    {
     "name": "stderr",
     "output_type": "stream",
     "text": [
      "\n",
      " 36%|███▌      | 135/373 [1:47:14<3:19:39, 50.33s/it]\u001b[A"
     ]
    },
    {
     "name": "stdout",
     "output_type": "stream",
     "text": [
      "{'nb_clusters': 6, 'size_min': 25, 'size_max': 30, 'p': 0.65, 'q': 0.4, 'nb_graphs_train': 1, 'nb_graphs_test': 1000, 'nb_graphs_val': 1}\n",
      "s\n",
      "e\n",
      "[I] Loading dataset SBM_CLUSTER...\n",
      "train, test, val sizes : 1 1000 1\n",
      "[I] Finished loading.\n",
      "[I] Data load time: 0.6775s\n"
     ]
    },
    {
     "name": "stderr",
     "output_type": "stream",
     "text": [
      "\n",
      " 36%|███▋      | 136/373 [1:48:11<3:27:11, 52.45s/it]\u001b[A"
     ]
    },
    {
     "name": "stdout",
     "output_type": "stream",
     "text": [
      "{'nb_clusters': 6, 'size_min': 25, 'size_max': 30, 'p': 0.75, 'q': 0.1, 'nb_graphs_train': 1, 'nb_graphs_test': 1000, 'nb_graphs_val': 1}\n",
      "s\n",
      "e\n",
      "[I] Loading dataset SBM_CLUSTER...\n",
      "train, test, val sizes : 1 1000 1\n",
      "[I] Finished loading.\n",
      "[I] Data load time: 0.5538s\n"
     ]
    },
    {
     "name": "stderr",
     "output_type": "stream",
     "text": [
      "\n",
      " 37%|███▋      | 137/373 [1:48:52<3:12:09, 48.85s/it]\u001b[A"
     ]
    },
    {
     "name": "stdout",
     "output_type": "stream",
     "text": [
      "{'nb_clusters': 6, 'size_min': 25, 'size_max': 30, 'p': 0.75, 'q': 0.2, 'nb_graphs_train': 1, 'nb_graphs_test': 1000, 'nb_graphs_val': 1}\n",
      "s\n",
      "e\n",
      "[I] Loading dataset SBM_CLUSTER...\n",
      "train, test, val sizes : 1 1000 1\n",
      "[I] Finished loading.\n",
      "[I] Data load time: 0.5909s\n"
     ]
    },
    {
     "name": "stderr",
     "output_type": "stream",
     "text": [
      "\n",
      " 37%|███▋      | 138/373 [1:49:33<3:02:47, 46.67s/it]\u001b[A"
     ]
    },
    {
     "name": "stdout",
     "output_type": "stream",
     "text": [
      "{'nb_clusters': 6, 'size_min': 25, 'size_max': 30, 'p': 0.75, 'q': 0.3, 'nb_graphs_train': 1, 'nb_graphs_test': 1000, 'nb_graphs_val': 1}\n",
      "s\n",
      "e\n",
      "[I] Loading dataset SBM_CLUSTER...\n",
      "train, test, val sizes : 1 1000 1\n",
      "[I] Finished loading.\n",
      "[I] Data load time: 0.6400s\n"
     ]
    },
    {
     "name": "stderr",
     "output_type": "stream",
     "text": [
      "\n",
      " 37%|███▋      | 139/373 [1:50:20<3:02:31, 46.80s/it]\u001b[A"
     ]
    },
    {
     "name": "stdout",
     "output_type": "stream",
     "text": [
      "{'nb_clusters': 6, 'size_min': 25, 'size_max': 30, 'p': 0.75, 'q': 0.4, 'nb_graphs_train': 1, 'nb_graphs_test': 1000, 'nb_graphs_val': 1}\n",
      "s\n",
      "e\n",
      "[I] Loading dataset SBM_CLUSTER...\n",
      "train, test, val sizes : 1 1000 1\n",
      "[I] Finished loading.\n",
      "[I] Data load time: 0.6564s\n"
     ]
    },
    {
     "name": "stderr",
     "output_type": "stream",
     "text": [
      "\n",
      " 38%|███▊      | 140/373 [1:51:12<3:07:31, 48.29s/it]\u001b[A"
     ]
    },
    {
     "name": "stdout",
     "output_type": "stream",
     "text": [
      "{'nb_clusters': 6, 'size_min': 25, 'size_max': 30, 'p': 0.85, 'q': 0.1, 'nb_graphs_train': 1, 'nb_graphs_test': 1000, 'nb_graphs_val': 1}\n",
      "s\n",
      "e\n",
      "[I] Loading dataset SBM_CLUSTER...\n",
      "train, test, val sizes : 1 1000 1\n",
      "[I] Finished loading.\n",
      "[I] Data load time: 0.5565s\n"
     ]
    },
    {
     "name": "stderr",
     "output_type": "stream",
     "text": [
      "\n",
      " 38%|███▊      | 141/373 [1:51:53<2:58:20, 46.12s/it]\u001b[A"
     ]
    },
    {
     "name": "stdout",
     "output_type": "stream",
     "text": [
      "{'nb_clusters': 6, 'size_min': 25, 'size_max': 30, 'p': 0.85, 'q': 0.2, 'nb_graphs_train': 1, 'nb_graphs_test': 1000, 'nb_graphs_val': 1}\n",
      "s\n",
      "e\n",
      "[I] Loading dataset SBM_CLUSTER...\n",
      "train, test, val sizes : 1 1000 1\n",
      "[I] Finished loading.\n",
      "[I] Data load time: 0.5947s\n"
     ]
    },
    {
     "name": "stderr",
     "output_type": "stream",
     "text": [
      "\n",
      " 38%|███▊      | 142/373 [1:52:34<2:51:36, 44.57s/it]\u001b[A"
     ]
    },
    {
     "name": "stdout",
     "output_type": "stream",
     "text": [
      "{'nb_clusters': 6, 'size_min': 25, 'size_max': 30, 'p': 0.85, 'q': 0.3, 'nb_graphs_train': 1, 'nb_graphs_test': 1000, 'nb_graphs_val': 1}\n",
      "s\n",
      "e\n",
      "[I] Loading dataset SBM_CLUSTER...\n",
      "train, test, val sizes : 1 1000 1\n",
      "[I] Finished loading.\n",
      "[I] Data load time: 0.6940s\n"
     ]
    },
    {
     "name": "stderr",
     "output_type": "stream",
     "text": [
      "\n",
      " 38%|███▊      | 143/373 [1:53:19<2:51:51, 44.83s/it]\u001b[A"
     ]
    },
    {
     "name": "stdout",
     "output_type": "stream",
     "text": [
      "{'nb_clusters': 6, 'size_min': 25, 'size_max': 30, 'p': 0.85, 'q': 0.4, 'nb_graphs_train': 1, 'nb_graphs_test': 1000, 'nb_graphs_val': 1}\n",
      "s\n",
      "e\n",
      "[I] Loading dataset SBM_CLUSTER...\n",
      "train, test, val sizes : 1 1000 1\n",
      "[I] Finished loading.\n",
      "[I] Data load time: 0.6595s\n"
     ]
    },
    {
     "name": "stderr",
     "output_type": "stream",
     "text": [
      "\n",
      " 39%|███▊      | 144/373 [1:54:06<2:52:57, 45.32s/it]\u001b[A"
     ]
    },
    {
     "name": "stdout",
     "output_type": "stream",
     "text": [
      "{'nb_clusters': 6, 'size_min': 25, 'size_max': 40, 'p': 0.55, 'q': 0.1, 'nb_graphs_train': 1, 'nb_graphs_test': 1000, 'nb_graphs_val': 1}\n",
      "s\n",
      "e\n",
      "[I] Loading dataset SBM_CLUSTER...\n",
      "train, test, val sizes : 1 1000 1\n",
      "[I] Finished loading.\n",
      "[I] Data load time: 0.5709s\n"
     ]
    },
    {
     "name": "stderr",
     "output_type": "stream",
     "text": [
      "\n",
      " 39%|███▉      | 145/373 [1:54:56<2:58:07, 46.88s/it]\u001b[A"
     ]
    },
    {
     "name": "stdout",
     "output_type": "stream",
     "text": [
      "{'nb_clusters': 6, 'size_min': 25, 'size_max': 40, 'p': 0.55, 'q': 0.2, 'nb_graphs_train': 1, 'nb_graphs_test': 1000, 'nb_graphs_val': 1}\n",
      "s\n",
      "e\n",
      "[I] Loading dataset SBM_CLUSTER...\n",
      "train, test, val sizes : 1 1000 1\n",
      "[I] Finished loading.\n",
      "[I] Data load time: 0.6108s\n"
     ]
    }
   ],
   "source": [
    "with open('out/SBMs_sparse_LapPE_BN/results/comparisonV3.json', 'r') as f:\n",
    "    js = json.load(f)\n",
    "    sc = SpectralClustering(n_clusters = 6, affinity='precomputed')\n",
    "    for i in trange(len(js)):\n",
    "        with open('configs/data_config.json'.format(i) , \"w\") as f:\n",
    "            config = js[i][\"Data_Parameters\"]\n",
    "            print(config)\n",
    "            json.dump(config,f)\n",
    "        print(\"s\")\n",
    "        os.system(\"python3 data/SBMs/LOAD_CLUSTER_DATA.py\")\n",
    "        print('e')\n",
    "        dataset = LoadData('SBM_CLUSTER')\n",
    "        scores = 0\n",
    "        for j in range(1000):\n",
    "            adj = dataset.test[j][0].adj()\n",
    "            #adj = adj.numpy()\n",
    "            adj = scp.sparse.coo_matrix(adj.to_dense())\n",
    "            pred=sc.fit_predict(adj)\n",
    "            gt = dataset.test[j][1]\n",
    "            scores += adjusted_rand_score(gt, pred)\n",
    "        js[i][\"spectral_clustering_accuracy\"] = scores/1000\n",
    "        with open('out/SBMs_sparse_LapPE_BN/results/comparisonV3.json', 'w') as d:\n",
    "            json.dump(js,d)\n",
    "        \n",
    "    "
   ]
  },
  {
   "cell_type": "code",
   "execution_count": null,
   "id": "fd2e34ca",
   "metadata": {},
   "outputs": [],
   "source": []
  }
 ],
 "metadata": {
  "kernelspec": {
   "display_name": "Python 3",
   "language": "python",
   "name": "python3"
  },
  "language_info": {
   "codemirror_mode": {
    "name": "ipython",
    "version": 3
   },
   "file_extension": ".py",
   "mimetype": "text/x-python",
   "name": "python",
   "nbconvert_exporter": "python",
   "pygments_lexer": "ipython3",
   "version": "3.7.4"
  }
 },
 "nbformat": 4,
 "nbformat_minor": 5
}
